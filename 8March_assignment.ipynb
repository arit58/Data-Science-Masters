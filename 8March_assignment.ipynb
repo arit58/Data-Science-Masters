{
 "cells": [
  {
   "cell_type": "markdown",
   "id": "3c7c4063-450c-47e9-bff1-5ba67f7265d3",
   "metadata": {},
   "source": [
    "Q1. What is the Probability density function?<br>\n",
    "In probability theory, a probability density function (PDF) is used to define the random variable’s probability coming within a distinct range of values, as opposed to taking on any one value."
   ]
  },
  {
   "cell_type": "markdown",
   "id": "c3a9f577-11e2-4634-89ea-b8d88e1ad1f2",
   "metadata": {},
   "source": [
    "Q2. What are the types of Probability distribution?<br>\n",
    "Probability density function, Probability mass function"
   ]
  },
  {
   "cell_type": "markdown",
   "id": "667289eb-c997-412c-b89d-2e29719d45ed",
   "metadata": {},
   "source": [
    "Q3. Write a Python function to calculate the probability density function of a normal distribution with\n",
    "given mean and standard deviation at a given point."
   ]
  },
  {
   "cell_type": "code",
   "execution_count": 2,
   "id": "34e3a079-9a03-40e4-bbd0-e1096ef49df5",
   "metadata": {},
   "outputs": [
    {
     "name": "stdout",
     "output_type": "stream",
     "text": [
      "0.00021910375616960678\n"
     ]
    }
   ],
   "source": [
    "import math\n",
    "\n",
    "def normal_pdf(x, mean, std_dev):\n",
    "    \"\"\"\n",
    "    Calculate the probability density function of a normal distribution with a given mean, \n",
    "    standard deviation and a point.\n",
    "    \"\"\"\n",
    "    exponent = -(x - mean) ** 2 / (2 * std_dev ** 2)\n",
    "    coefficient = 1 / (std_dev * math.sqrt(2 * math.pi))\n",
    "    return coefficient * math.exp(exponent)\n",
    "\n",
    "print(normal_pdf(1200,1000,80))"
   ]
  },
  {
   "cell_type": "markdown",
   "id": "8fbdd018-7bcd-4495-9603-0c454d60650e",
   "metadata": {},
   "source": [
    "Q4. What are the properties of Binomial distribution? Give two examples of events where binomial\n",
    "distribution can be applied.<br>\n",
    "The properties of the binomial distribution are:<br>\n",
    "There are two possible outcomes: true or false, success or failure, yes or no.<br>\n",
    "There is ‘n’ number of independent trials or a fixed number of n times repeated trials.<br>\n",
    "The probability of success or failure remains the same for each trial.<br>\n",
    "Only the number of success is calculated out of n independent trials.<br>\n",
    "Every trial is an independent trial, which means the outcome of one trial does not affect the outcome of another trial.<br>\n",
    "\n",
    "Examples: <br>\n",
    "1.Testing a drug, whether the drug cures the patient or not.\n",
    "2.If you participate in an election, the probability is that you can either win the election or lose the election. Hence, the event can be easily represented with the help of a binomial distribution. A binomial distribution calculator can also be used to calculate the chances of a particular political party winning or losing an election provided the previous record of the party winning or losing the elections is already known."
   ]
  },
  {
   "cell_type": "markdown",
   "id": "5965193b-b29d-4532-befa-62d4abf0acc2",
   "metadata": {},
   "source": [
    "Q5. Generate a random sample of size 1000 from a binomial distribution with probability of success 0.4\n",
    "and plot a histogram of the results using matplotlib."
   ]
  },
  {
   "cell_type": "code",
   "execution_count": 8,
   "id": "ad541190-ec02-47e9-af88-598098334282",
   "metadata": {},
   "outputs": [
    {
     "data": {
      "image/png": "[encoded data removed]",
      "text/plain": [
       "<Figure size 640x480 with 1 Axes>"
      ]
     },
     "metadata": {},
     "output_type": "display_data"
    }
   ],
   "source": [
    "import numpy as np\n",
    "import matplotlib.pyplot as plt\n",
    "n, p = 10, .4  # number of trials, probability of each trial\n",
    "s = np.random.binomial(n, p, 1000)\n",
    "plt.figure()\n",
    "plt.hist(s)\n",
    "plt.xlabel('No. of successes in the trials')\n",
    "plt.ylabel('Counts')\n",
    "plt.show()"
   ]
  },
  {
   "cell_type": "markdown",
   "id": "a48e3c9f-cf3a-4d3d-a0fc-d9208e22e473",
   "metadata": {},
   "source": [
    "Q6. Write a Python function to calculate the cumulative distribution function of a Poisson distribution\n",
    "with given mean at a given point."
   ]
  },
  {
   "cell_type": "code",
   "execution_count": 1,
   "id": "33c90e5c-73ae-439e-a0af-fe8593f04601",
   "metadata": {},
   "outputs": [],
   "source": [
    "import math\n",
    "\n",
    "def poisson_cdf(x, mean):\n",
    "    \"\"\"\n",
    "    Calculate the cumulative distribution function of a Poisson distribution with a given mean \n",
    "    and a point.\n",
    "    \"\"\"\n",
    "    cdf = 0.0\n",
    "    for i in range(x + 1):\n",
    "        cdf += math.exp(-mean) * mean**i / math.factorial(i)\n",
    "    return cdf"
   ]
  },
  {
   "cell_type": "code",
   "execution_count": 6,
   "id": "ddf8e2b3-6283-41d1-b168-3f4b007d93b2",
   "metadata": {},
   "outputs": [
    {
     "name": "stdout",
     "output_type": "stream",
     "text": [
      "0.7720245323035444\n"
     ]
    }
   ],
   "source": [
    "print(poisson_cdf(14,12))"
   ]
  },
  {
   "cell_type": "markdown",
   "id": "96a7d1d1-2449-41ba-9f05-9cf25d4eb9b2",
   "metadata": {},
   "source": [
    "Q7. How Binomial distribution different from Poisson distribution?"
   ]
  },
  {
   "cell_type": "markdown",
   "id": "f2b95a85-6729-46fc-bb29-ddae9c84be80",
   "metadata": {},
   "source": [
    "In a Binomial distribution, there is a fixed number of trials (e.g. flip a coin 3 times)\n",
    "In a Poisson distribution, there could be any number of events that occur during a certain time interval (e.g. how many customers will arrive at a store in a given hour?)"
   ]
  },
  {
   "cell_type": "markdown",
   "id": "c5aae0c8-9562-4c65-a486-05bf97a32026",
   "metadata": {},
   "source": [
    "Q8. Generate a random sample of size 1000 from a Poisson distribution with mean 5 and calculate the\n",
    "sample mean and variance."
   ]
  },
  {
   "cell_type": "code",
   "execution_count": 5,
   "id": "17032b76-55c6-46ad-9032-b31d49675f22",
   "metadata": {},
   "outputs": [
    {
     "name": "stdout",
     "output_type": "stream",
     "text": [
      "5.06 4.8164\n"
     ]
    }
   ],
   "source": [
    "import numpy as np\n",
    "s = np.random.poisson(5,1000)\n",
    "print(np.mean(s),np.var(s))"
   ]
  },
  {
   "cell_type": "markdown",
   "id": "8116980f-d85c-498e-9507-d7b712cd7c5c",
   "metadata": {},
   "source": [
    "Q9. How mean and variance are related in Binomial distribution and Poisson distribution?<br>\n",
    "For a Binomial distribution with parameters n (number of trials) and p (probability of success on each trial), the mean is given by μ = np, and the variance is given by σ^2 = np(1-p). Therefore, the variance is related to the mean by the formula σ^2 = μ(1-p)<br>\n",
    "For a Poisson distribution with parameter λ (the mean and variance of the distribution), the mean is also given by μ = λ, and the variance is also given by σ^2 = λ. Therefore, the variance is equal to the mean in a Poisson distribution, and there is no specific formula relating the two."
   ]
  },
  {
   "cell_type": "markdown",
   "id": "c94bb354-7583-417b-92de-6dce385272a2",
   "metadata": {},
   "source": [
    "In normal distribution with respect to mean position, where does the least frequent data appear?<br>\n",
    "In a normal distribution, the least frequent data typically appear in the tails of the distribution, which are the regions furthest away from the mean. Specifically, the data that are furthest away from the mean have the lowest frequency of occurrence. This is because the normal distribution is symmetric around the mean, and the probability of observing a value that is far away from the mean decreases rapidly as the distance from the mean increases.\n",
    "\n",
    "For example, in a standard normal distribution (with a mean of 0 and a standard deviation of 1), the data that are more than 2 standard deviations away from the mean in either direction have a frequency of occurrence of less than 5%. The data that are more than 3 standard deviations away from the mean have a frequency of occurrence of less than 0.3%."
   ]
  }
 ],
 "metadata": {
  "kernelspec": {
   "display_name": "Python 3 (ipykernel)",
   "language": "python",
   "name": "python3"
  },
  "language_info": {
   "codemirror_mode": {
    "name": "ipython",
    "version": 3
   },
   "file_extension": ".py",
   "mimetype": "text/x-python",
   "name": "python",
   "nbconvert_exporter": "python",
   "pygments_lexer": "ipython3",
   "version": "3.10.8"
  }
 },
 "nbformat": 4,
 "nbformat_minor": 5
}
