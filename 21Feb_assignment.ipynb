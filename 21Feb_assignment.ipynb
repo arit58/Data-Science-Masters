{
 "cells": [
  {
   "cell_type": "markdown",
   "id": "7dd27162-6cd1-4500-89f8-2ff299150293",
   "metadata": {},
   "source": [
    "Q1. What is Web Scraping? Why is it Used? Give three areas where Web Scraping is used to get data.\n",
    "<br>\n",
    "Web scraping is an automatic method to obtain large amounts of data from websites. Most of this data is unstructured data in an HTML format which is then converted into structured data in a spreadsheet or a database so that it can be used in various applications.\n",
    "<br>\n",
    "These include using online services, particular API’s or even creating your code for web scraping from scratch. Many large websites, like Google, Twitter, Facebook, StackOverflow, etc. have API’s that allow you to access their data in a structured format. This is the best option, but there are other sites that don’t allow users to access large amounts of data in a structured form or they are simply not that technologically advanced. In that situation, it’s best to use Web Scraping to scrape the website for data.\n",
    "<br>\n",
    "There are a variety of uses you can gain from web scraping, including:\n",
    "<br>\n",
    "Monitoring e-commerce prices\n",
    "<br>\n",
    "Finding opportunities for investment<br>\n",
    "Analyzing social media web data"
   ]
  },
  {
   "cell_type": "markdown",
   "id": "5d21725a-6ad8-48c9-a324-274f51eefa2b",
   "metadata": {},
   "source": [
    "Q2. What are the different methods used for Web Scraping?<br>\n",
    "The various methods used are:\n",
    "<br>\n",
    "## Copy-pasting \n",
    "The manual human examination and copy-pasting method may sometimes prove irreplaceable. At times, this technique may be the only practical method to use especially when websites are setup with barriers and machine automation cannot be enabled.<br>\n",
    "## DOM Parsing:\n",
    "In order to dynamically modify or inspect a web page, client-side scripts parse the contents of the web page into a DOM tree. By embedding a program into the web browser, you can then retrieve the information from the tree.<br>\n",
    "## HTTP Programming\n",
    "Using socket programming, posting HTTP requests can help one retrieve dynamic as well as static web page information.\n",
    "Recognizing Semantic Annotation. Most web pages have semantic annotations/markup or metadata that can be easily retrieved. This could be a simple case of DOM parsing if the metadata is just embedded in the web page. Web scrapers can also use the annotations located in the semantic layer of the web page before actually scraping it.<br>\n",
    "## Text Grepping\n",
    "Using Python programming languages or Perl, one can use the UNIX grep command to extract valuable data and information from web pages.\n",
    "Web scraping Software. If you do not want to manually use web-scraping codes, you can make use of a software that can do the web scraping for you. It can automatically retrieve the information off the web page, convert it into recognizable information, and store it in a local database."
   ]
  },
  {
   "cell_type": "markdown",
   "id": "0c810d57-77a7-4a2c-8448-e40aa9344a48",
   "metadata": {},
   "source": [
    "Q3. What is Beautiful Soup? Why is it used?\n",
    "<br>\n",
    "Beautiful Soup is a Python library that makes it easy to scrape information from web pages. It sits atop an HTML or XML parser and provides Pythonic idioms for iterating, searching, and modifying the parse tree.\n",
    "<br>\n",
    "The Beautiful Soup library helps with isolating titles and links from webpages. It can extract all of the text from ​HTML tags, and alter the HTML ​in the document with which we’re working."
   ]
  },
  {
   "cell_type": "markdown",
   "id": "6ab9ebe2-f6b1-4221-a11c-9e197ce7b326",
   "metadata": {},
   "source": [
    "Q4. Why is flask used in this Web Scraping project?\n",
    "<br>\n",
    "Flask was used in order to make a web application in which we can search for a product and get the users' comments and ratings regarding the same, from any device.\n",
    "<br>"
   ]
  },
  {
   "cell_type": "markdown",
   "id": "ebb4abf0-c3f5-4404-9b3a-945936357599",
   "metadata": {},
   "source": [
    "Q5. Write the names of AWS services used in this project. Also, explain the use of each service.\n",
    "<br>\n",
    "Code pipeline and elastic beanstalk were used.\n",
    "<br>\n",
    "AWS CodePipeline is a fully managed continuous delivery service that helps you automate your release pipeline. It allows users to build, test and deploy code into a test or production environment using either the AWS CLI or a clean UI configuration process within the Amazon Console.\n",
    "<br>"
   ]
  }
 ],
 "metadata": {
  "kernelspec": {
   "display_name": "Python 3 (ipykernel)",
   "language": "python",
   "name": "python3"
  },
  "language_info": {
   "codemirror_mode": {
    "name": "ipython",
    "version": 3
   },
   "file_extension": ".py",
   "mimetype": "text/x-python",
   "name": "python",
   "nbconvert_exporter": "python",
   "pygments_lexer": "ipython3",
   "version": "3.10.8"
  }
 },
 "nbformat": 4,
 "nbformat_minor": 5
}
