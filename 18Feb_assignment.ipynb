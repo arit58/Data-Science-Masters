{
 "cells": [
  {
   "cell_type": "markdown",
   "id": "e5ceaeb6-8f08-4acd-834e-badd1076eea9",
   "metadata": {},
   "source": [
    "Q1. What is an API? Give an example, where an API is used in real life.\n",
    "<br>\n",
    "API is the acronym for application programming interface — a software intermediary that allows two applications to talk to each other. APIs are an accessible way to extract and share data within and across organizations.\n",
    "<br>\n",
    "One common API usage example we come across on a daily basis is weather data. Rich weather snippets seem to be commonplace, found on all platforms, like Google Search, Apple’s Weather app, or even from your smart home device. For example, if you search “weather + [your city’s name]” on Google, you’ll see a dedicated box at the top of the search results (called a rich snippet) with the current weather conditions and forecast. Google sources this information from a third party. They do so by means of an API, which sends them the latest weather details in a way that’s easy for them to reformat."
   ]
  },
  {
   "cell_type": "markdown",
   "id": "316d6d71-6ab9-48bf-bf13-34aeccbf5da4",
   "metadata": {},
   "source": [
    "Q2. Give advantages and disadvantages of using API.\n",
    "<BR>\n",
    "The advantages of using APIs are:<br>\n",
    "Personalized Content: API enables businesses to get a clear understanding of the tastes and preferences of the customer. This allows businesses to make personalized recommendations and generate better customer leads and interactions.\n",
    "    <BR>\n",
    "Automation: One no longer needs to make assumptions and interpretations manually. API does it all for you by managing all the workflow making business processes more productive and efficient.\n",
    "<BR>\n",
    "Fraud Prevention: API has various levels of security depending upon the type of API that you use which ensures that only authorized personnel have access to the data generated using API.\n",
    "<br>\n",
    "Improved Competency: The information that is transmitted from one system to another is quickly intercepted and interpreted by API. This level of efficiency ensures information automatically available to every platform which leads to quicker and improved decision making.\n",
    "<br>\n",
    "Adaptability: API can anticipate changes in terms of needs that arise in the due course of business. It used the technology at its disposal to analyze the information present within the system more closely and thus makes the service provisions more flexible.\n",
    "\n",
    "<br>\n",
    "Here are important drawbacks/cons of using API services:<br>\n",
    "Creating API is a very time-consuming process<br>\n",
    "A fixed scale is necessary<br>\n",
    "Imprecise boundary delineation<br>\n",
    "To create API, programming knowledge is necessary<br>\n",
    "Maintenance cost is very high<br>\n",
    "It can crash when testing API<br>"
   ]
  },
  {
   "cell_type": "markdown",
   "id": "6d2fef74-318b-47b8-a534-8a24fe0bdbb1",
   "metadata": {},
   "source": [
    "Q3. What is a Web API? Differentiate between API and Web API.\n",
    "<br>\n",
    "Web API is an API as the name suggests, it can be accessed over the web using the HTTP protocol. It is a framework that helps you to create and develop HTTP based RESTFUL services. The web API can be developed by using different technologies such as java, ASP.NET, etc. Web API is used in either a web server or a web browser. Basically Web API is a web development concept. It is limited to Web Application’s client-side and also it does not include a web server or web browser details.\n",
    "<br>\n",
    "Web API supports protocol for HTTP/s protocol and URL requests/responses headers that enable services to reach various clients through the web. On the other hand, all communication in the REST API is supported only through HTTP protocol.\n",
    "<br>\n",
    "Although APIs perform identical tasks, a Web API provides flexibility to any style of communication. Whereas a REST API can take advantage of using REST, SOAP, and XML-RPC for communication.\n",
    "<br>\n",
    "As Web APIs are lightweight architecture, they are designed for gadgets constrained to devices like smartphones. In contrast, REST APIs send and receive data over systems making it a complex architecture.\n",
    "<br>\n",
    "Web API can be hosted only on an Internet Information Service (IIS) or self that supports XML and JSON requests. In contrast, REST API can be hosted only on IIS that supports standardized XML requests."
   ]
  },
  {
   "cell_type": "markdown",
   "id": "a962b972-8063-431d-ab99-2d569281334b",
   "metadata": {},
   "source": [
    "Q4. Explain REST and SOAP Architecture. Mention shortcomings of SOAP.\n",
    "<br>\n",
    "REST: representational state transfer\n",
    "REST is a set of architectural principles attuned to the needs of lightweight web services and mobile applications. Because it's a set of guidelines, it leaves the implementation of these recommendations to developers.\n",
    "\n",
    "When a request for data is sent to a REST API, it’s usually done through hypertext transfer protocol (commonly referred to as HTTP). Once a request is received, APIs designed for REST (called RESTful APIs or RESTful web services) can return messages in a variety of formats: HTML, XML, plain text, and JSON. JSON (JavaScript object notation) is favored as a message format because it can be read by any programming language (despite the name), is human- and machine-readable, and is lightweight. In this way, RESTful APIs are more flexible and can be easier to set up.\n",
    "\n",
    "An application is said to be RESTful if it follows 6 architectural guidelines. A RESTful application must have:\n",
    "\n",
    "A client-server architecture composed of clients, servers, and resources.\n",
    "Stateless client-server communication, meaning no client content is stored on the server between requests. Information about the session’s state is instead held with the client.\n",
    "Cacheable data to eliminate the need for some client-server interactions.\n",
    "A uniform interface between components so that information is transferred in a standardized form instead of specific to an application’s needs. This is described by Roy Fielding, the originator of REST, as “the central feature that distinguishes the REST architectural style from other network-based styles.”\n",
    "A layered system constraint, where client-server interactions can be mediated by hierarchical layers.\n",
    "Code on demand, allowing servers to extend the functionality of a client by transferring executable code (though also reducing visibility, making this an optional guideline).\n",
    "SOAP: simple object access protocol\n",
    "SOAP is a standard protocol that was first designed so that applications built with different languages and on different platforms could communicate. Because it is a protocol, it imposes built-in rules that increase its complexity and overhead, which can lead to longer page load times. However, these standards also offer built-in compliances that can make it preferable for enterprise scenarios. The built-in compliance standards include security, atomicity, consistency, isolation, and durability (ACID), which is a set of properties for ensuring reliable database transactions.\n",
    "\n",
    "Common web service specifications include:\n",
    "\n",
    "Web services security (WS-security): Standardizes how messages are secured and transferred through unique identifiers called tokens.\n",
    "WS-ReliableMessaging: Standardizes error handling between messages transferred across unreliable IT infrastructure.\n",
    "Web services addressing (WS-addressing): Packages routing information as metadata within SOAP headers, instead of maintaining such information deeper within the network.\n",
    "Web services description language (WSDL): Describes what a web service does, and where that service begins and ends.\n",
    "When a request for data is sent to a SOAP API, it can be handled through any of the application layer protocols: HTTP (for web browsers), SMTP (for email), TCP, and others. However, once a request is received, return SOAP messages must be returned as XML documents—a markup language that is both human- and machine-readable. A completed request to a SOAP API is not cacheable by a browser, so it cannot be accessed later without resending to the API.\n",
    "<br>\n",
    "Disadvantages:\n",
    "<br>\n",
    "In comparison to Rest, SOAP is significantly more complex. It's also less flexible. This might present a challenge for developers that are not highly skilled. The extensive processing required may also slow down performance.\n",
    "No variety of data formats\n",
    "\n",
    "SOAP is also extremely limited in its support of data formats. The formats supported by Rest include HTML, JSON, YAML, XML and others. Meanwhile, SOAP only supports XML.\n",
    "API calls are not cached\n",
    "\n",
    "The process where a request is sent after an API is set up with the correct endpoints is referred to as an API call. The process results in the information being transferred, processed and feedback being provided. It's not possible for SOAP API calls to be cached.\n",
    "Uses more bandwidth\n",
    "\n",
    "SOAP is generally slower in comparison to Rest and it also uses more bandwidth given its very complex nature. It’s another limiting factor in the efficacy of this technology for certain projects."
   ]
  },
  {
   "cell_type": "markdown",
   "id": "0d1d4cc8-24d3-4755-8c9a-9d273e33c064",
   "metadata": {},
   "source": [
    "Q5. Differentiate between REST and SOAP."
   ]
  }
 ],
 "metadata": {
  "kernelspec": {
   "display_name": "Python 3 (ipykernel)",
   "language": "python",
   "name": "python3"
  },
  "language_info": {
   "codemirror_mode": {
    "name": "ipython",
    "version": 3
   },
   "file_extension": ".py",
   "mimetype": "text/x-python",
   "name": "python",
   "nbconvert_exporter": "python",
   "pygments_lexer": "ipython3",
   "version": "3.10.8"
  }
 },
 "nbformat": 4,
 "nbformat_minor": 5
}
