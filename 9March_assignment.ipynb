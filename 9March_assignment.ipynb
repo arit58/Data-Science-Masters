{
 "cells": [
  {
   "cell_type": "markdown",
   "id": "a1b15719-bb52-48d1-9eba-e752a56ebdb5",
   "metadata": {},
   "source": [
    "Q1: What are the Probability Mass Function (PMF) and Probability Density Function (PDF)? Explain with\n",
    "an example.<br>\n",
    "Probability density function is a function that provides the likelihood that the value of a random variable will fall between a certain range of values.<br>\n",
    "Probability mass function gives the probability that a discrete random variable will be exactly equal to a specific value. "
   ]
  },
  {
   "cell_type": "markdown",
   "id": "361a4eab-3d1e-4400-88a9-0e78104d0618",
   "metadata": {},
   "source": [
    "Q2: What is Cumulative Density Function (CDF)? Explain with an example. Why CDF is used?<br>\n",
    "The cumulative distribution function (CDF) calculates the cumulative probability for a given x-value. Use the CDF to determine the likelihood that a random observation taken from the population will be less than or equal to a particular value.<br>\n",
    "The Cumulative Distribution Function (CDF) of a real-valued random variable X, evaluated at x, is the probability function that X will take a value less than or equal to x.<br>\n",
    "Suppose you have a random variable X that represents the number of hours a student studies for an exam. The possible values of X are between 0 and 10 hours, inclusive.\n",
    "\n",
    "To find the CDF of X, you would calculate the probability that X is less than or equal to a specific value x. For example, let's say you want to find the CDF when x is 6.\n",
    "\n",
    "First, you would find the probability that X is less than or equal to 0. This is easy, because the probability is 0, since the student cannot study negative hours.\n",
    "\n",
    "Next, you would find the probability that X is less than or equal to 1. Again, this is easy, because the probability is very low since most students would study for more than 1 hour.\n",
    "\n",
    "You would continue this process until you have found the probability that X is less than or equal to 6. This would involve finding the probability that the student studies between 0 and 6 hours, which might be a relatively high probability.\n",
    "\n",
    "The final result of this process is the CDF of X. The CDF can be represented graphically as a step function, where each step represents a specific value of x and the height of the step represents the probability that X is less than or equal to that value of x.<br>\n",
    "CDF (Cumulative Distribution Function) is used in probability and statistics to describe the distribution of a random variable. It has several important applications:\n",
    "\n",
    "Probability calculation: The CDF can be used to calculate the probability that a random variable takes on a value less than or equal to a specific value. This is important for making predictions and estimates in a variety of fields, such as finance, economics, and engineering.\n",
    "\n",
    "Understanding the distribution: The shape of the CDF can tell us a lot about the distribution of the random variable. For example, if the CDF is skewed to the right, it means that the distribution has a longer tail to the right and that there are more high values than low values. This information can be used to make informed decisions about how to model the random variable.\n",
    "\n",
    "Comparing distributions: CDFs can be used to compare different distributions. By comparing the CDFs of two or more random variables, we can determine which one is more likely to take on a certain value or range of values.\n",
    "\n",
    "Hypothesis testing: CDFs are also used in hypothesis testing. By comparing the CDF of a sample with the CDF of a known distribution, we can determine whether the sample comes from the same distribution as the known distribution. This is important for making statistical inferences and drawing conclusions from data.\n",
    "\n",
    "Overall, CDFs are a valuable tool for understanding and working with probability distributions and random variables in various fields."
   ]
  },
  {
   "cell_type": "markdown",
   "id": "88ee3b25-e825-4b43-a2c7-fd07e9620521",
   "metadata": {},
   "source": [
    "Q3: What are some examples of situations where the normal distribution might be used as a model?\n",
    "Explain how the parameters of the normal distribution relate to the shape of the distribution.<br>\n",
    "Blood pressure, height of human beings follow normal distribution.<br>\n",
    "Any changes made to the value of the mean move the curve either to the left or right along the X-axis.<br>\n",
    "On the graph, the standard deviation determines the width of the curve, and it tightens or expands the width of the distribution along the x-axis. Typically, a small standard deviation relative to the mean produces a steep curve, while a large standard deviation relative to the mean produces a flatter curve."
   ]
  },
  {
   "cell_type": "markdown",
   "id": "95c45fa4-a5f0-4948-8ebe-6827760c6026",
   "metadata": {},
   "source": [
    "Q4: Explain the importance of Normal Distribution. Give a few real-life examples of Normal\n",
    "Distribution.<br>\n",
    "The normal distribution is an important probability distribution in math and statistics because many continuous data in nature and psychology display this bell-shaped curve when compiled and graphed. Hence, if a data is found to be normally distributed, then many assumptions can be made regarding its properties.\n",
    "Blood pressure, height of human beings follow normal distribution. "
   ]
  },
  {
   "cell_type": "markdown",
   "id": "486780e2-dde4-43a3-893f-85aa37814bc6",
   "metadata": {},
   "source": [
    "Q5: What is Bernaulli Distribution? Give an Example. What is the difference between Bernoulli\n",
    "Distribution and Binomial Distribution?<br>\n",
    "The Bernoulli distribution is a discrete probability distribution that describes the probability of a random variable taking on one of two possible values, typically represented as 1 or 0, where 1 represents a success and 0 represents a failure.\n",
    "In other words, it is a binary distribution that models the outcome of a single trial or experiment with only two possible outcomes. <br>\n",
    "The Bernoulli distribution describes the probability of a single trial or experiment with two possible outcomes, where one outcome is considered a success and the other is considered a failure. For example, flipping a coin once is an example of a Bernoulli trial.\n",
    "\n",
    "The binomial distribution, on the other hand, describes the probability of a series of n independent and identically distributed (i.i.d.) Bernoulli trials, each with the same probability of success, p. In other words, the binomial distribution models the number of successes in a fixed number of trials.\n",
    "\n",
    "The probability mass function (PMF) of the binomial distribution is given by:\n",
    "\n",
    "P(X = k) = (n choose k) * p^k * (1-p)^(n-k)\n",
    "\n",
    "where k is the number of successes, n is the total number of trials, p is the probability of success on each trial, and (n choose k) is the binomial coefficient, which represents the number of ways to choose k successes from n trials.\n",
    "\n",
    "In summary, the Bernoulli distribution describes the probability of a single trial with two possible outcomes, while the binomial distribution describes the probability of a series of n Bernoulli trials with the same probability of success."
   ]
  },
  {
   "cell_type": "markdown",
   "id": "465f09b9-9127-4a58-aa0e-2f4c51868395",
   "metadata": {},
   "source": [
    "Q6. Consider a dataset with a mean of 50 and a standard deviation of 10. If we assume that the dataset\n",
    "is normally distributed, what is the probability that a randomly selected observation will be greater\n",
    "than 60? Use the appropriate formula and show your calculations.<br>\n",
    "To solve this problem, we will use the standard normal distribution formula:\n",
    "\n",
    "z = (x - mu) / sigma\n",
    "\n",
    "where z is the standard score (also known as z-score), x is the raw score, mu is the mean, and sigma is the standard deviation.\n",
    "\n",
    "In this case, we want to find the probability that a randomly selected observation is greater than 60. So we need to calculate the z-score for x = 60.\n",
    "\n",
    "z = (60 - 50) / 10 = 1\n",
    "\n",
    "We can then use a standard normal distribution table or calculator to find the probability that a z-score is greater than 1. This probability is approximately 0.1587.\n",
    "\n",
    "Therefore, the probability that a randomly selected observation from this dataset will be greater than 60 is approximately 0.1587 or 15.87%."
   ]
  },
  {
   "cell_type": "markdown",
   "id": "03f3dd63-5a56-4ced-87f3-0800f24f029d",
   "metadata": {},
   "source": [
    "Explain uniform Distribution with an example.\n",
    "In statistics, uniform distribution is a term used to describe a form of probability distribution where every possible outcome has an equal likelihood of happening. The probability is constant since each variable has equal chances of being the outcome.<br>\n",
    "Discrete uniform distributions have a finite number of outcomes. A continuous uniform distribution is a statistical distribution with an infinite number of equally likely measurable values.<br>\n",
    "A deck of cards also has a uniform distribution. It is because an individual has an equal chance of drawing a spade, a heart, a club, or a diamond. Another example of a uniform distribution is when a coin is tossed. The likelihood of getting a tail or head is the same. "
   ]
  },
  {
   "cell_type": "markdown",
   "id": "47a62282-a642-4c8d-a8aa-4ed0215b0b76",
   "metadata": {},
   "source": [
    "Q8: What is the z score? State the importance of the z score. <br>\n",
    "Z-Score, also known as the standard score, is a measure which indicates how many standard deviations an entity is, from the mean. <br>\n",
    "The importance of the z-score lies in the following:<br>\n",
    "Standardization: The z-score allows us to standardize different datasets, even if they have different units of measurement and scales. This makes it easier to compare and analyze different datasets.<br>\n",
    "\n",
    "Outlier detection: The z-score can help identify outliers in a dataset, which are values that are significantly different from the rest of the dataset. Outliers can skew statistical analyses and lead to inaccurate results, so it is important to detect and handle them appropriately.<br>\n",
    "\n",
    "Probability calculations: The z-score is used in probability calculations, particularly in the calculation of confidence intervals and hypothesis testing. These are important statistical tools that are used to make inferences about a population based on a sample of data.\n"
   ]
  },
  {
   "cell_type": "markdown",
   "id": "3b14dba7-0116-484f-8f8a-547ae3a4cfe8",
   "metadata": {},
   "source": [
    "Q9: What is Central Limit Theorem? State the significance of the Central Limit Theorem.<br>\n",
    "Central limit theorem is a statistical theory which states that when the large sample size has a finite variance, the samples will be normally distributed and the mean of samples will be approximately equal to the mean of the whole population.<br>\n",
    "In other words, the central limit theorem states that for any population with mean and standard deviation, the distribution of the sample mean for sample size N has mean μ and standard deviation σ / √n .<br>\n",
    "\n",
    "The significance of the CLT lies in the following:\n",
    "\n",
    "Sampling: The CLT allows us to make inferences about a population based on a sample of data. It states that the sample means will be normally distributed, regardless of the distribution of the population. This makes it possible to use statistical techniques such as hypothesis testing and confidence intervals to make conclusions about the population.\n",
    "\n",
    "Confidence intervals: The CLT is used to calculate confidence intervals for population parameters, such as the mean or the proportion. This is important in statistical inference, where we want to estimate a population parameter based on a sample of data.\n",
    "\n",
    "Hypothesis testing: The CLT is used in hypothesis testing to calculate the test statistic and determine the probability of obtaining the observed sample mean, assuming the null hypothesis is true. This allows us to test whether a sample is representative of the population or not."
   ]
  },
  {
   "cell_type": "markdown",
   "id": "6949bba6-b977-4108-ac1c-13d1b4f6ee63",
   "metadata": {},
   "source": [
    "Q10: Q10: State the assumptions of the Central Limit Theorem.<br>\n",
    "The central limit theorem states that the sampling distribution of the mean will always follow a normal distribution under the following conditions:\n",
    "\n",
    "The sample size is sufficiently large. This condition is usually met if the sample size is n ≥ 30.<br>\n",
    "The samples are independent and identically distributed (i.i.d.) random variables. This condition is usually met if the sampling is random.<br>\n",
    "The population’s distribution has finite variance. Central limit theorem doesn’t apply to distributions with infinite variance, such as the Cauchy distribution. Most distributions have finite variance.ate the assumptions of the Central Limit Theorem.<br>\n"
   ]
  }
 ],
 "metadata": {
  "kernelspec": {
   "display_name": "Python 3 (ipykernel)",
   "language": "python",
   "name": "python3"
  },
  "language_info": {
   "codemirror_mode": {
    "name": "ipython",
    "version": 3
   },
   "file_extension": ".py",
   "mimetype": "text/x-python",
   "name": "python",
   "nbconvert_exporter": "python",
   "pygments_lexer": "ipython3",
   "version": "3.10.8"
  }
 },
 "nbformat": 4,
 "nbformat_minor": 5
}
