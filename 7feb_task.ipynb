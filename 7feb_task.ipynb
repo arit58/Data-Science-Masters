{
 "cells": [
  {
   "cell_type": "markdown",
   "id": "e02f98f4-09c9-45ea-989a-ea9ce412fb13",
   "metadata": {},
   "source": [
    "Q1. You are writing code for a company. The requirement of the company is that you create a python\n",
    "function that will check whether the password entered by the user is correct or not. The function should\n",
    "take the password as input and return the string “Valid Password” if the entered password follows the\n",
    "below-given password guidelines else it should return “Invalid Password”.\n",
    "Note: 1. The Password should contain at least two uppercase letters and at least two lowercase letters.\n",
    "2. The Password should contain at least a number and three special characters.\n",
    "3. The length of the password should be 10 characters long."
   ]
  },
  {
   "cell_type": "code",
   "execution_count": 19,
   "id": "8e689ccf-b04a-409c-bbb1-5f43215e3a2e",
   "metadata": {},
   "outputs": [
    {
     "name": "stdout",
     "output_type": "stream",
     "text": [
      "Valid Password\n",
      "Invalid Password\n",
      "Invalid Password\n"
     ]
    }
   ],
   "source": [
    "def is_valid(password):\n",
    "    valid = False\n",
    "    upper_count = 0\n",
    "    lower_count = 0\n",
    "    digit_count = 0\n",
    "    special_count = 0  \n",
    "    special_char = 0\n",
    "    \n",
    "    if len(password) == 10:\n",
    "        for i in password:\n",
    "            if i.isalpha():\n",
    "                if i.isupper():\n",
    "                    upper_count +=1\n",
    "                elif i.islower():\n",
    "                    lower_count +=1 \n",
    "            elif i.isdigit():\n",
    "                digit_count +=1\n",
    "            \n",
    "            else:\n",
    "                special_char +=1\n",
    "        if (upper_count>1) and (lower_count>1) and (digit_count>0) and (special_char>=3):\n",
    "            valid= True\n",
    "\n",
    "    if valid:\n",
    "        return \"Valid Password\"\n",
    "    else:\n",
    "        return \"Invalid Password\"\n",
    "\n",
    "    \n",
    "print(is_valid(\"RRAAhu1@#$\"))\n",
    "print(is_valid(\"RRAA1@#$\"))\n",
    "print(is_valid(\"RRAAhu1@#$rhnS\"))"
   ]
  },
  {
   "cell_type": "markdown",
   "id": "fc711b33-4e25-43fb-9a47-d67393f3d826",
   "metadata": {},
   "source": [
    "Q2. Solve the below-given questions using at least one of the following:\n",
    "1. Lambda function\n",
    "2. Filter function\n",
    "3. Map function\n",
    "4. List Comprehension\n",
    "<br>\n",
    " Check if the string starts with a particular letter.\n",
    "<br>\n",
    " Check if the string is numeric.\n",
    "<br>\n",
    "Sort a list of tuples having fruit names and their quantity.  [(\"mango\",99),(\"orange\",80), (\"grapes\", 1000)-\n",
    "<br>\n",
    "Find the squares of numbers from 1 to 10.\n",
    "<br>\n",
    "Find the cube root of numbers from 1 to 10.\n",
    "<br>\n",
    " Check if a given number is even.\n",
    "<br>\n",
    " Filter odd numbers from the given list. [1,2,3,4,5,6,7,8,9,10-\n",
    "<br>\n",
    "Sort a list of integers into positive and negative integers lists.[1,2,3,4,5,6,-1,-2,-3,-4,-5,0]"
   ]
  },
  {
   "cell_type": "code",
   "execution_count": 10,
   "id": "f179b7fd-ea6f-4250-83d2-e5743b219f3c",
   "metadata": {},
   "outputs": [
    {
     "name": "stdin",
     "output_type": "stream",
     "text": [
      "Enter a string:  Aritra\n",
      "Enter the letter:  a\n"
     ]
    },
    {
     "name": "stdout",
     "output_type": "stream",
     "text": [
      "The string starts with a\n"
     ]
    }
   ],
   "source": [
    "#Check if the string starts with a particular letter.\n",
    "def check_start(string,letter):\n",
    "    words = [i.lower() for i in string] #list comprehension \n",
    "    if words[0] == letter.lower():\n",
    "        print(\"The string starts with {}\".format(letter))\n",
    "    else:\n",
    "        print(\"The string doesnt start with {}\".format(letter))\n",
    "        \n",
    "string = input(\"Enter a string: \")\n",
    "letter = input(\"Enter the letter: \")\n",
    "\n",
    "check_start(string,letter)"
   ]
  },
  {
   "cell_type": "code",
   "execution_count": 10,
   "id": "4e45bac5-e69b-4164-b08f-e72e30ca3589",
   "metadata": {},
   "outputs": [
    {
     "name": "stdin",
     "output_type": "stream",
     "text": [
      "Please type something:  6474\n"
     ]
    },
    {
     "name": "stdout",
     "output_type": "stream",
     "text": [
      "The string is numeric\n"
     ]
    }
   ],
   "source": [
    "#Check if the string is numeric.\n",
    "l = input(\"Please type something: \")\n",
    "test = all([char.isnumeric() for char in l]) #list comprehension\n",
    "if test:\n",
    "    print(\"The string is numeric\")\n",
    "else:\n",
    "    print(\"The string isn't numeric\")\n",
    "        "
   ]
  },
  {
   "cell_type": "code",
   "execution_count": 5,
   "id": "e6f69f37-300f-4b22-b876-8890ed2a309b",
   "metadata": {},
   "outputs": [
    {
     "name": "stdout",
     "output_type": "stream",
     "text": [
      "[('grapes', 1000), ('mango', 99), ('orange', 80)]\n"
     ]
    }
   ],
   "source": [
    "#Sort a list of tuples having fruit names and their quantity. [(\"mango\",99),(\"orange\",80), (\"grapes\", 1000)-\n",
    "lst = [(\"mango\",99),(\"orange\",80), (\"grapes\", 1000)]\n",
    "print(sorted(lst))"
   ]
  },
  {
   "cell_type": "code",
   "execution_count": 2,
   "id": "7498f034-9385-4190-8a5c-9bd1d4df5a14",
   "metadata": {},
   "outputs": [
    {
     "data": {
      "text/plain": [
       "[1, 4, 9, 16, 25, 36, 49, 64, 81, 100]"
      ]
     },
     "execution_count": 2,
     "metadata": {},
     "output_type": "execute_result"
    }
   ],
   "source": [
    "#Find the squares of numbers from 1 to 10.\n",
    "sq  = list(map(lambda x: x**2,range(1,11)))\n",
    "sq"
   ]
  },
  {
   "cell_type": "code",
   "execution_count": 3,
   "id": "0298879b-03a4-4f3a-a028-51e9847f9041",
   "metadata": {},
   "outputs": [
    {
     "data": {
      "text/plain": [
       "[1, 8, 27, 64, 125, 216, 343, 512, 729, 1000]"
      ]
     },
     "execution_count": 3,
     "metadata": {},
     "output_type": "execute_result"
    }
   ],
   "source": [
    "#Find the cube root of numbers from 1 to 10.\n",
    "cu  = list(map(lambda x: x**3,range(1,11)))\n",
    "cu"
   ]
  },
  {
   "cell_type": "code",
   "execution_count": 5,
   "id": "3d273e43-cce8-428b-8a45-127df2bec497",
   "metadata": {},
   "outputs": [
    {
     "data": {
      "text/plain": [
       "[2, 4]"
      ]
     },
     "execution_count": 5,
     "metadata": {},
     "output_type": "execute_result"
    }
   ],
   "source": [
    "#Check if a given number is even.\n",
    "lst = [1,2,3,4]\n",
    "even = list(filter(lambda x: x%2==0,lst))\n",
    "even"
   ]
  },
  {
   "cell_type": "code",
   "execution_count": 7,
   "id": "8e66c180-d08b-45d0-8444-343a68b24b3f",
   "metadata": {},
   "outputs": [
    {
     "data": {
      "text/plain": [
       "[1, 3, 5, 7, 9]"
      ]
     },
     "execution_count": 7,
     "metadata": {},
     "output_type": "execute_result"
    }
   ],
   "source": [
    "#Filter odd numbers from the given list. [1,2,3,4,5,6,7,8,9,10]\n",
    "lst =  [1,2,3,4,5,6,7,8,9,10]\n",
    "odd = list(filter(lambda x: x%2!=0,lst))\n",
    "odd"
   ]
  },
  {
   "cell_type": "code",
   "execution_count": 8,
   "id": "2af70e69-4e61-4eba-a47a-734b25fc9a97",
   "metadata": {},
   "outputs": [
    {
     "name": "stdout",
     "output_type": "stream",
     "text": [
      "[1, 2, 3, 4, 5, 6, 0]\n",
      "[-1, -2, -3, -4, -5]\n"
     ]
    }
   ],
   "source": [
    "#Sort a list of integers into positive and negative integers lists.[1,2,3,4,5,6,-1,-2,-3,-4,-5,0]\n",
    "lst = [1,2,3,4,5,6,-1,-2,-3,-4,-5,0]\n",
    "pos = list(filter(lambda x: x>=0,lst))\n",
    "neg = list(filter(lambda x: x<0,lst))\n",
    "print(pos)\n",
    "print(neg)"
   ]
  }
 ],
 "metadata": {
  "kernelspec": {
   "display_name": "Python 3 (ipykernel)",
   "language": "python",
   "name": "python3"
  },
  "language_info": {
   "codemirror_mode": {
    "name": "ipython",
    "version": 3
   },
   "file_extension": ".py",
   "mimetype": "text/x-python",
   "name": "python",
   "nbconvert_exporter": "python",
   "pygments_lexer": "ipython3",
   "version": "3.10.8"
  }
 },
 "nbformat": 4,
 "nbformat_minor": 5
}
