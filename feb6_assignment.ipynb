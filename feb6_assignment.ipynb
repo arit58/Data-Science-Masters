{
 "cells": [
  {
   "cell_type": "markdown",
   "id": "7e31f351-e1de-40c5-ac71-de58c4634933",
   "metadata": {},
   "source": [
    "Q1. Create a function which will take a list as an argument and return the product of all the numbers\n",
    "after creating a flat list.\n",
    "Use the below-given list as an argument for your function.\n",
    "list1 = [1,2,3,4, [44,55,66, True], False, (34,56,78,89,34), {1,2,3,3,2,1}, {1:34, \"key2\": [55, 67, 78, 89], 4: (45,\n",
    "22, 61, 34)}, [56, 'data science'], 'Machine Learning']\n",
    "Note: you must extract numeric keys and values of the dictionary also."
   ]
  },
  {
   "cell_type": "code",
   "execution_count": 13,
   "id": "a4441b51-7166-47e5-9f0d-5ed93db94548",
   "metadata": {},
   "outputs": [
    {
     "name": "stdout",
     "output_type": "stream",
     "text": [
      "The required product is:  4134711838987085478833841242112000\n"
     ]
    }
   ],
   "source": [
    "from functools import reduce\n",
    "def prod(lst):\n",
    "    l = []\n",
    "    for i in lst:\n",
    "        if type(i)==int:\n",
    "            l.append(i)\n",
    "        elif type(i)== set or type(i)== list or type(i)==tuple:\n",
    "            for j in i:\n",
    "                if type(j)==int:\n",
    "                    l.append(j)\n",
    "        elif isinstance(i,dict):\n",
    "            for j in i.keys():\n",
    "                if isinstance(j,int):\n",
    "                    l.append(j)\n",
    "            for j in i.values():\n",
    "                if isinstance(j,int):\n",
    "                    l.append(j)\n",
    "                elif isinstance(j,list) or isinstance(j,tuple):\n",
    "                    for k in j:\n",
    "                        if isinstance(k,int):\n",
    "                            l.append(k)\n",
    "                            \n",
    "    a = reduce(lambda x,y : x*y,l)\n",
    "    return a\n",
    "\n",
    "list1 = [1,2,3,4, [44,55,66, True], False, (34,56,78,89,34), {1,2,3,3,2,1}, {1:34, \"key2\": [55, 67, 78, 89], 4: (45, 22, 61, 34)}, [56, 'data science'], 'Machine Learning']                   \n",
    "print(\"The required product is: \",prod(list1))"
   ]
  },
  {
   "cell_type": "markdown",
   "id": "5b29bcfe-e55f-45dc-a008-a7b277eee687",
   "metadata": {},
   "source": [
    "Q2. Write a python program for encrypting a message sent to you by your friend. The logic of encryption\n",
    "should be such that, for a the output should be z. For b, the output should be y. For c, the output should\n",
    "be x respectively. Also, the whitespace should be replaced with a dollar sign. Keep the punctuation\n",
    "marks unchanged.\n",
    "Input Sentence: I want to become a Data Scientist.\n",
    "Encrypt the above input sentence using the program you just created.\n",
    "Note: Convert the given input sentence into lowercase before encrypting. The final output should be\n",
    "lowercase."
   ]
  },
  {
   "cell_type": "code",
   "execution_count": 46,
   "id": "4777cb9a-5d5d-4e52-a578-7b2184bc6c93",
   "metadata": {},
   "outputs": [
    {
     "data": {
      "text/plain": [
       "'r$dzmg$gl$yvxlnv$z$wzgz$hxrvmgrhg.'"
      ]
     },
     "execution_count": 46,
     "metadata": {},
     "output_type": "execute_result"
    }
   ],
   "source": [
    "def encrypt(msg):\n",
    "    msg = msg.lower()\n",
    "    words = list(msg)\n",
    "    for i in range(len(words)):\n",
    "        if words[i].isalpha():\n",
    "            k = chr(ord('z') - ord(words[i])+ord('a'))\n",
    "            words[i] = k\n",
    "        elif words[i].isspace():\n",
    "            words[i] = '$'\n",
    "            \n",
    "    password = \"\".join(words)\n",
    "    return password\n",
    "                   \n",
    "my_msg = 'I want to become a Data Scientist.'          \n",
    "encrypt(my_msg)           "
   ]
  }
 ],
 "metadata": {
  "kernelspec": {
   "display_name": "Python 3 (ipykernel)",
   "language": "python",
   "name": "python3"
  },
  "language_info": {
   "codemirror_mode": {
    "name": "ipython",
    "version": 3
   },
   "file_extension": ".py",
   "mimetype": "text/x-python",
   "name": "python",
   "nbconvert_exporter": "python",
   "pygments_lexer": "ipython3",
   "version": "3.10.8"
  }
 },
 "nbformat": 4,
 "nbformat_minor": 5
}
