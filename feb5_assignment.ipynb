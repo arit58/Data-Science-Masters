{
 "cells": [
  {
   "cell_type": "markdown",
   "id": "cb74987c-8831-4c99-9bfa-44dda0656c5a",
   "metadata": {},
   "source": [
    " Q1. Explain Class and Object with respect to Object-Oriented Programming. Give a suitable example.\n",
    "<br>\n",
    " Ans: Classes are blueprints or prototypes of real world entities. Object is an instance of a class. It is the actual real life entity.\n",
    " For example, human beings can be considered as class. Human beings are supposed to be two-legged creatures, with two hands and one head. This \n",
    " is the blueprint. Two persons,say,'John' and 'Jack', are instances of the classes and are called objects. They share some common characteristics, since both are instances of the same class, like both of them walk on two legs. But at the same time, they have different characteristics, for example, different hair colour, different height, etc."
   ]
  },
  {
   "cell_type": "markdown",
   "id": "7d218554-4b81-45e5-bc22-afeb4ba43c5f",
   "metadata": {},
   "source": [
    "Q2. Name the four pillars of OOPs.\n",
    "<br>\n",
    "Ans: The four pillars of OOPs are inheritance,polymorphism, encapsulation and abstraction."
   ]
  },
  {
   "cell_type": "markdown",
   "id": "651a8f8b-da2c-4258-a2e9-c98c75db8836",
   "metadata": {},
   "source": [
    "Q3. Explain why the __init__() function is used. Give a suitable example."
   ]
  },
  {
   "cell_type": "code",
   "execution_count": 1,
   "id": "8b300ae9-8e35-4dac-8a54-d16c8627ee67",
   "metadata": {},
   "outputs": [
    {
     "name": "stdout",
     "output_type": "stream",
     "text": [
      "Name of the person is Jack\n",
      "Name of the person is John\n"
     ]
    }
   ],
   "source": [
    "#The __init__() function is used to initialize an object or assign values to the instance attributes. The method is used to instantiate an object.\n",
    "\n",
    "class Person:\n",
    "    \n",
    "    def __init__(self,name):\n",
    "        self.name = name\n",
    "        \n",
    "    def display_name(self):\n",
    "        print(\"Name of the person is {}\".format(self.name))\n",
    "\n",
    "p1 = Person(\"Jack\")\n",
    "p2 = Person(\"John\")\n",
    "p1.display_name()\n",
    "p2.display_name()"
   ]
  },
  {
   "cell_type": "markdown",
   "id": "56971a70-2faf-473c-80f9-4dcfa7cc6293",
   "metadata": {},
   "source": [
    "Q4. Why self is used in OOPs?\n",
    "<br>\n",
    "Ans: self is used to refer to the current instance of the class. During instantiation, self in the __init__() method, binds the attributes with the arguments passed. Later, whenever self is used with an attribute name, it simply means, that the attribute value, attached with the current instance of the class, is being referred to."
   ]
  },
  {
   "cell_type": "markdown",
   "id": "dadae66f-101d-4e6f-afd6-7c16ac704adc",
   "metadata": {},
   "source": [
    "Q5. What is inheritance? Give an example for each type of inheritance.\n",
    "<br>\n",
    "Inheritance is an OOP concept, which allows a class to inherit properties and methods from another class.\n"
   ]
  },
  {
   "cell_type": "code",
   "execution_count": 2,
   "id": "8ba8ce4c-c3af-429d-8283-fcd96b3bfe6e",
   "metadata": {},
   "outputs": [
    {
     "name": "stdout",
     "output_type": "stream",
     "text": [
      "This function is in parent class.\n",
      "This function is in child class.\n"
     ]
    }
   ],
   "source": [
    "#Single inheritance\n",
    "class Parent:\n",
    "    def func1(self):\n",
    "        print(\"This function is in parent class.\")\n",
    " \n",
    "# Derived class\n",
    " \n",
    " \n",
    "class Child(Parent):\n",
    "    def func2(self):\n",
    "        print(\"This function is in child class.\")\n",
    " \n",
    " \n",
    "# Driver's code\n",
    "object = Child()\n",
    "object.func1()\n",
    "object.func2()"
   ]
  },
  {
   "cell_type": "code",
   "execution_count": null,
   "id": "0ac54af9-20f9-4f26-b123-050300d13358",
   "metadata": {},
   "outputs": [],
   "source": [
    "#Multiple inheritance\n",
    "\n"
   ]
  },
  {
   "cell_type": "code",
   "execution_count": null,
   "id": "d9c72eb0-4190-499c-8ba1-46bae8cbd992",
   "metadata": {},
   "outputs": [],
   "source": [
    "#Multilevel inheritance"
   ]
  },
  {
   "cell_type": "code",
   "execution_count": null,
   "id": "ac650522-da0c-4030-bf6f-7a832be93e12",
   "metadata": {},
   "outputs": [],
   "source": [
    "#Hierarchial inheritance"
   ]
  },
  {
   "cell_type": "code",
   "execution_count": null,
   "id": "8b9e12de-0938-4518-b04c-a9856f4ab246",
   "metadata": {},
   "outputs": [],
   "source": [
    "#Hybrid inheritance"
   ]
  }
 ],
 "metadata": {
  "kernelspec": {
   "display_name": "Python 3 (ipykernel)",
   "language": "python",
   "name": "python3"
  },
  "language_info": {
   "codemirror_mode": {
    "name": "ipython",
    "version": 3
   },
   "file_extension": ".py",
   "mimetype": "text/x-python",
   "name": "python",
   "nbconvert_exporter": "python",
   "pygments_lexer": "ipython3",
   "version": "3.10.8"
  }
 },
 "nbformat": 4,
 "nbformat_minor": 5
}
