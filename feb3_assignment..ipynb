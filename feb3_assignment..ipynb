{
 "cells": [
  {
   "cell_type": "markdown",
   "id": "0bc2a873-6a4f-471d-b0d8-faa3ac494445",
   "metadata": {},
   "source": [
    "Q1. Which keyword is used to create a function? Create a function to return a list of odd numbers in the\n",
    "range of 1 to 25."
   ]
  },
  {
   "cell_type": "code",
   "execution_count": 2,
   "id": "6e5766f7-521b-41fb-85e1-991fd90e7580",
   "metadata": {},
   "outputs": [
    {
     "data": {
      "text/plain": [
       "[1, 3, 5, 7, 9, 11, 13, 15, 17, 19, 21, 23]"
      ]
     },
     "execution_count": 2,
     "metadata": {},
     "output_type": "execute_result"
    }
   ],
   "source": [
    "#def is used to create a function.\n",
    "\n",
    "def odd(a):\n",
    "    odd_list = [i for i in range(1,a) if i%2 !=0]\n",
    "    return odd_list\n",
    "\n",
    "odd(25)"
   ]
  },
  {
   "cell_type": "markdown",
   "id": "7e091647-480a-4e6c-81e9-fc2786f37788",
   "metadata": {},
   "source": [
    "Q2. Why *args and **kwargs is used in some functions? Create a function each for *args and **kwargs to\n",
    "demonstrate their use."
   ]
  },
  {
   "cell_type": "code",
   "execution_count": 3,
   "id": "72b935ce-75bb-46a4-b0b6-a96d66daf809",
   "metadata": {},
   "outputs": [
    {
     "name": "stdout",
     "output_type": "stream",
     "text": [
      "Var positional arguments:...(1, 2, 3, 4)\n",
      "Var keyword arguments:...{'key1': 1, 'key2': 2, 'key3': 3}\n"
     ]
    }
   ],
   "source": [
    "# *args are used to denote variable number of positional arguments.\n",
    "# **kwargs are used to denote variable number of keyword arguments.\n",
    "\n",
    "def test1(*args):\n",
    "    print(\"Var positional arguments:...{}\".format(args))\n",
    "\n",
    "def test2(**kwargs):\n",
    "    print(\"Var keyword arguments:...{}\".format(kwargs))\n",
    "\n",
    "test1(1,2,3,4)\n",
    "test2(key1=1,key2=2,key3=3)"
   ]
  },
  {
   "cell_type": "markdown",
   "id": "2cd59fc2-0ca9-441b-9752-f216d52a4610",
   "metadata": {},
   "source": [
    "Q3. What is an iterator in python? Name the method used to initialise the iterator object and the method\n",
    "used for iteration. Use these methods to print the first five elements of the given list [2, 4, 6, 8, 10, 12, 14, 16,\n",
    "18, 20]."
   ]
  },
  {
   "cell_type": "code",
   "execution_count": 12,
   "id": "74208f91-f87a-4a9f-bbcd-34888489b42c",
   "metadata": {},
   "outputs": [
    {
     "name": "stdout",
     "output_type": "stream",
     "text": [
      "2 4 6 8 10 "
     ]
    }
   ],
   "source": [
    "\"\"\" Iterators in python are objects which can be iterated upon.\n",
    "The method used to initialise the iterator object is iter() and for iteration, next() is used.\"\"\"\n",
    "\n",
    "lst = [2, 4, 6, 8, 10, 12, 14, 16,18, 20]\n",
    "my_iter = iter(lst)\n",
    "for i in range(5):\n",
    "    print(next(my_iter),end=' ')"
   ]
  },
  {
   "cell_type": "markdown",
   "id": "164e73f7-7453-4220-984f-ae420071a897",
   "metadata": {},
   "source": [
    "Q4. What is a generator function in python? Why yield keyword is used? Give an example of a generator\n",
    "function."
   ]
  },
  {
   "cell_type": "code",
   "execution_count": 6,
   "id": "91e07cdc-1f47-4d2d-af64-c8e412347571",
   "metadata": {},
   "outputs": [
    {
     "name": "stdout",
     "output_type": "stream",
     "text": [
      "0 1 2 3 4 5 6 7 8 9 "
     ]
    }
   ],
   "source": [
    "# Generator is a function that returns an iterator object, which produces a sequence of values when iterated over.\n",
    "\n",
    "def my_gen(n):\n",
    "    a = 0\n",
    "    while a<n:\n",
    "        yield a \n",
    "        a += 1\n",
    "\n",
    "for i in my_gen(10):\n",
    "    print(i,end= \" \")"
   ]
  },
  {
   "cell_type": "markdown",
   "id": "cf6cbb35-3b95-4d7a-a117-f068c2b8df72",
   "metadata": {},
   "source": [
    "Q5. Create a generator function for prime numbers less than 1000. Use the next() method to print the\n",
    "first 20 prime numbers."
   ]
  },
  {
   "cell_type": "code",
   "execution_count": 11,
   "id": "a51ad146-958c-48f2-b86a-c35ccc1e79cf",
   "metadata": {},
   "outputs": [
    {
     "name": "stdout",
     "output_type": "stream",
     "text": [
      "2\n",
      "3\n",
      "4\n",
      "5\n",
      "7\n",
      "11\n",
      "13\n",
      "17\n",
      "19\n",
      "23\n",
      "29\n",
      "31\n",
      "37\n",
      "41\n",
      "43\n",
      "47\n",
      "53\n",
      "59\n",
      "61\n",
      "67\n"
     ]
    }
   ],
   "source": [
    "def gen_primes(n):\n",
    "    val=2\n",
    "    while val < n:\n",
    "        for i in range(2,val//2):\n",
    "            if val%i == 0:\n",
    "                break\n",
    "        else:\n",
    "            yield val\n",
    "        val +=1\n",
    "\n",
    "p = gen_primes(1000)\n",
    "for i in range(20):\n",
    "    print(next(p))\n",
    "    "
   ]
  }
 ],
 "metadata": {
  "kernelspec": {
   "display_name": "Python 3 (ipykernel)",
   "language": "python",
   "name": "python3"
  },
  "language_info": {
   "codemirror_mode": {
    "name": "ipython",
    "version": 3
   },
   "file_extension": ".py",
   "mimetype": "text/x-python",
   "name": "python",
   "nbconvert_exporter": "python",
   "pygments_lexer": "ipython3",
   "version": "3.10.8"
  }
 },
 "nbformat": 4,
 "nbformat_minor": 5
}
