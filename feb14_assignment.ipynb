{
 "cells": [
  {
   "cell_type": "markdown",
   "id": "89531a93-395b-46e7-a652-f6c9a811532c",
   "metadata": {},
   "source": [
    "Q1. What is multithreading in python? Why is it used? Name the module used to handle threads in python."
   ]
  },
  {
   "cell_type": "markdown",
   "id": "231f96bf-afe8-44e3-ae2d-ca439ad62876",
   "metadata": {},
   "source": [
    "The ability of a processor to execute multiple threads simultaneously is known as multithreading.\n",
    "<br>\n",
    "To break down  tasks and applications into multiple sub-tasks and then execute them simultaneously, multithreading in used. All important aspects such as performance, rendering, speed and time consumption will drastically be improved by using proper Python multithreading.\n",
    "<br>\n",
    "Threading module."
   ]
  },
  {
   "cell_type": "markdown",
   "id": "5cbd0c72-5bd0-4b37-8968-6c7baed8c8f8",
   "metadata": {},
   "source": [
    "Q2. Why threading module used? Write the use of the following functions:\n",
    "<br>\n",
    "activeCount, currentThread , enumerate"
   ]
  },
  {
   "cell_type": "markdown",
   "id": "f0ebbcef-e606-4d9a-a0ac-6b16173ef5b4",
   "metadata": {},
   "source": [
    "Threading module is used for creating, controlling and managing threads in python. This module provides multiple functions for managing threads.\n",
    "<br>\n",
    "activecount: This function returns the number of Thread objects currently alive.\n",
    "<br>\n",
    "currentThread: It is an inbuilt method of the threading module in Python. It is used to return the current Thread object, which corresponds to the caller's thread of control.\n",
    "<br>\n",
    "enumerate: threading.enumerate() returns a list of all Thread objects currently alive. The list includes daemonic threads, dummy thread objects created by current_thread(), and the main thread. It excludes terminated threads and threads that have not yet been started."
   ]
  },
  {
   "cell_type": "markdown",
   "id": "42560754-63d9-450f-81b7-978fe0232c9d",
   "metadata": {},
   "source": [
    "3. Explain the following functions:\n",
    "<br>\n",
    " run<br>\n",
    " start\n",
    "<br>\n",
    " join\n",
    "    <br>\n",
    "isAlive"
   ]
  },
  {
   "cell_type": "markdown",
   "id": "5ab7450e-a439-403f-b789-753bcae73bc7",
   "metadata": {},
   "source": [
    "*run* : The standard run() method invokes the callable object passed to the object’s constructor as the target argument, if any, with positional and keyword arguments taken from the args and kwargs arguments, respectively.\n",
    "<br>\n",
    "*start*\n",
    ": Start the thread’s activity.\n",
    "It must be called at most once per thread object. It arranges for the object’s run() method to be invoked in a separate thread of control.\n",
    "This method will raise a RuntimeError if called more than once on the same thread object.\n",
    "<br>\n",
    "*Join*: This blocks the calling thread until the thread whose join() method is called terminates – either normally or through an unhandled exception – or until the optional timeout occurs.\n",
    "<br>\n",
    "*isAlive* : Return whether the thread is alive."
   ]
  },
  {
   "cell_type": "markdown",
   "id": "d383259c-963e-4e8e-b599-15f210fd036e",
   "metadata": {},
   "source": [
    "Q4. Write a python program to create two threads. Thread one must print the list of squares and thread\n",
    "two must print the list of cubes."
   ]
  },
  {
   "cell_type": "code",
   "execution_count": 24,
   "id": "89ac7c8e-db5b-46cc-a723-7c6dc2e32dc0",
   "metadata": {},
   "outputs": [
    {
     "name": "stdout",
     "output_type": "stream",
     "text": [
      "1 squared is 1\n",
      "2 squared is 4\n",
      "3 squared is 9\n",
      "4 squared is 16\n",
      "5 squared is 25\n",
      "6 squared is 36\n",
      "7 squared is 49\n",
      "8 squared is 64\n",
      "9 squared is 81\n",
      "10 squared is 100\n",
      "1 cubed is 1\n",
      "2 cubed is 8\n",
      "3 cubed is 27\n",
      "4 cubed is 64\n",
      "5 cubed is 125\n",
      "6 cubed is 216\n",
      "7 cubed is 343\n",
      "8 cubed is 512\n",
      "9 cubed is 729\n",
      "10 cubed is 1000\n"
     ]
    }
   ],
   "source": [
    "import threading\n",
    "def print_squares():\n",
    "    for i in range(1,11):\n",
    "        print(\"{} squared is {}\".format(i,i**2))\n",
    "def print_cubes():\n",
    "    for i in range(1,11):\n",
    "        print(\"{} cubed is {}\".format(i,i**3))\n",
    "\n",
    "if __name__==\"__main__\":\n",
    "    t1 = threading.Thread(target=print_squares)\n",
    "    t2 = threading.Thread(target=print_cubes)\n",
    "    t1.start()\n",
    "    t1.join()\n",
    "    t2.start()\n",
    "    t2.join()"
   ]
  },
  {
   "cell_type": "markdown",
   "id": "a3e3294f-6d97-4805-b30d-0686377a01e9",
   "metadata": {},
   "source": [
    "Q5. State advantages and disadvantages of multithreading."
   ]
  },
  {
   "cell_type": "markdown",
   "id": "e8c7d176-55e8-4b0b-afe0-1e086d7e1572",
   "metadata": {},
   "source": [
    "advantages:\n",
    "<br>\n",
    "Multithreading in Python streamlines the efficient utilization of resources as the threads share the same memory and data space.\n",
    "It also allows the concurrent appearance of multiple tasks and reduces the response time. This improves the performance.\n",
    "<br>\n",
    "disadvantages:\n",
    "<br>\n",
    "Python virtual machine is not a thread-safe interpreter, meaning that the interpreter can execute only one thread at any given moment. This limitation is enforced by the Python Global Interpreter Lock (GIL), which essentially limits one Python thread to run at a time. In other words, GIL ensures that only one thread runs within the same process at the same time on a single processor."
   ]
  },
  {
   "cell_type": "markdown",
   "id": "c8efc70f-f96c-45b9-99ae-1e9675471fc2",
   "metadata": {},
   "source": [
    "Q6. Explain deadlocks and race conditions.\n",
    "<br>\n",
    "\n",
    "<br>\n",
    "A race condition is a bug in concurrency programming.\n",
    "It is a failure case where the behavior of the program is dependent upon the order of execution by two or more threads. This means, the behavior of the program will not be predictable, possibly changing each time it is run.\n"
   ]
  }
 ],
 "metadata": {
  "kernelspec": {
   "display_name": "Python 3 (ipykernel)",
   "language": "python",
   "name": "python3"
  },
  "language_info": {
   "codemirror_mode": {
    "name": "ipython",
    "version": 3
   },
   "file_extension": ".py",
   "mimetype": "text/x-python",
   "name": "python",
   "nbconvert_exporter": "python",
   "pygments_lexer": "ipython3",
   "version": "3.10.8"
  }
 },
 "nbformat": 4,
 "nbformat_minor": 5
}
