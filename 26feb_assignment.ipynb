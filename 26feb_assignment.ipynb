{
 "cells": [
  {
   "cell_type": "markdown",
   "id": "f22e7237-8aaf-41cf-840b-bdc4ab94cf0f",
   "metadata": {},
   "source": [
    "Consider the below code to answer further questions:<br>\n",
    "import numpy as np<br>\n",
    "list_ = [ ‘1’ , ’2’ , ‘3’ , ‘4’ , ‘5’ ] <br>\n",
    "array_list = np.array(object = list_)"
   ]
  },
  {
   "cell_type": "markdown",
   "id": "b399b74e-af4f-4d8e-9f9f-cac73d1d2483",
   "metadata": {},
   "source": [
    "Q1. Is there any difference in the data type of variables list_ and array_list? If there is then write a code\n",
    "to print the data types of both the variables."
   ]
  },
  {
   "cell_type": "code",
   "execution_count": 4,
   "id": "4f7178a0-1ec3-42ee-908e-b6970e865240",
   "metadata": {},
   "outputs": [
    {
     "name": "stdout",
     "output_type": "stream",
     "text": [
      "<class 'list'>\n",
      "<class 'numpy.ndarray'>\n"
     ]
    }
   ],
   "source": [
    "import numpy as np\n",
    "list_ = [ '1' , '2' , '3' , '4' , '5' ]\n",
    "array_list = np.array(object = list_)\n",
    "print(type(list_))\n",
    "print(type(array_list))"
   ]
  },
  {
   "cell_type": "markdown",
   "id": "f3889799-a604-4cb0-8cf4-56c729c74ac1",
   "metadata": {},
   "source": [
    "Q2. Write a code to print the data type of each and every element of both the variables list_ and\n",
    "arra_list."
   ]
  },
  {
   "cell_type": "code",
   "execution_count": 19,
   "id": "9fdb4ed5-52b3-4b9b-8afa-1d92e652d904",
   "metadata": {},
   "outputs": [
    {
     "name": "stdout",
     "output_type": "stream",
     "text": [
      "<class 'numpy.str_'>\n",
      "<class 'numpy.str_'>\n",
      "<class 'numpy.str_'>\n",
      "<class 'numpy.str_'>\n",
      "<class 'numpy.str_'>\n"
     ]
    }
   ],
   "source": [
    "for i in array_list:\n",
    "    print(type(i))"
   ]
  },
  {
   "cell_type": "code",
   "execution_count": 17,
   "id": "699da87e-4384-41c8-a99d-a50009aae145",
   "metadata": {},
   "outputs": [
    {
     "name": "stdout",
     "output_type": "stream",
     "text": [
      "<class 'str'>,<class 'str'>,<class 'str'>,<class 'str'>,<class 'str'>,"
     ]
    }
   ],
   "source": [
    "for i in list_:\n",
    "    print(type(i),end = ',')"
   ]
  },
  {
   "cell_type": "markdown",
   "id": "1f855fba-f67f-46d2-8e0d-d339bfd964e8",
   "metadata": {},
   "source": [
    "Q3. Considering the following changes in the variable, array_list: <br>\n",
    "array_list = np.array(object = list_, dtype = int) <br>\n",
    "Will there be any difference in the data type of the elements present in both the variables, list_ and <br>\n",
    "arra_list? If so then print the data types of each and every element present in both the variables, list_ <br>\n",
    "and arra_list."
   ]
  },
  {
   "cell_type": "code",
   "execution_count": 23,
   "id": "e543b5dd-6e30-4ff0-a490-3c026938bd98",
   "metadata": {},
   "outputs": [
    {
     "name": "stdout",
     "output_type": "stream",
     "text": [
      "<class 'numpy.int64'>, <class 'numpy.int64'>, <class 'numpy.int64'>, <class 'numpy.int64'>, <class 'numpy.int64'>, \n",
      "<class 'str'>,<class 'str'>,<class 'str'>,<class 'str'>,<class 'str'>,"
     ]
    }
   ],
   "source": [
    "list_ = [ '1' , '2' , '3' , '4' , '5' ]\n",
    "array_list = np.array(object = list_,dtype=int)\n",
    "\n",
    "for i in array_list:\n",
    "    print(type(i),end=', ')\n",
    "print()\n",
    "\n",
    "for i in list_:\n",
    "    print(type(i),end = ',')"
   ]
  },
  {
   "cell_type": "markdown",
   "id": "84eae6e2-e90b-4519-823d-8d8f4fb92719",
   "metadata": {},
   "source": [
    "Consider the below code to answer further questions: <br>\n",
    "import numpy as np<br>\n",
    "num_list = [ [ 1 , 2 , 3 ] , [ 4 , 5 , 6 ] ] <br>\n",
    "num_array = np.array(object = num_list) <br>\n",
    "Q4. Write a code to find the following characteristics of variable, num_array: <br>\n",
    "(i) shape <br>\n",
    "(ii) size"
   ]
  },
  {
   "cell_type": "code",
   "execution_count": 24,
   "id": "c6df9d44-5b5c-48c5-8500-84bb71a54596",
   "metadata": {},
   "outputs": [
    {
     "name": "stdout",
     "output_type": "stream",
     "text": [
      "(2, 3)\n",
      "6\n"
     ]
    }
   ],
   "source": [
    "num_list = [ [ 1 , 2 , 3 ] , [ 4 , 5 , 6 ] ]\n",
    "num_array = np.array(object = num_list)\n",
    "print(num_array.shape)\n",
    "print(num_array.size)"
   ]
  },
  {
   "cell_type": "markdown",
   "id": "05c6afe3-f51a-4b59-9821-48ad91b287bd",
   "metadata": {},
   "source": [
    "Q5. Write a code to create numpy array of 3*3 matrix containing zeros only, using a numpy array\n",
    "creation function. <br>\n",
    "[Hint: The size of the array will be 9 and the shape will be (3,3).]"
   ]
  },
  {
   "cell_type": "code",
   "execution_count": 28,
   "id": "d8cd9160-189d-478d-bce0-db26d16a2eb8",
   "metadata": {},
   "outputs": [
    {
     "data": {
      "text/plain": [
       "(3, 3)"
      ]
     },
     "execution_count": 28,
     "metadata": {},
     "output_type": "execute_result"
    }
   ],
   "source": [
    "a = np.zeros((3,3))\n",
    "a.shape"
   ]
  },
  {
   "cell_type": "markdown",
   "id": "f24680e6-953a-48f5-9002-e0f46a64c835",
   "metadata": {},
   "source": [
    "Q6. Create an identity matrix of shape (5,5) using numpy functions? <br>\n",
    "[Hint: An identity matrix is a matrix containing 1 diagonally and other elements will be 0.]"
   ]
  },
  {
   "cell_type": "code",
   "execution_count": 29,
   "id": "7b213373-de7e-47f3-a863-0cd5ccaa5ac6",
   "metadata": {},
   "outputs": [
    {
     "data": {
      "text/plain": [
       "array([[1., 0., 0., 0., 0.],\n",
       "       [0., 1., 0., 0., 0.],\n",
       "       [0., 0., 1., 0., 0.],\n",
       "       [0., 0., 0., 1., 0.],\n",
       "       [0., 0., 0., 0., 1.]])"
      ]
     },
     "execution_count": 29,
     "metadata": {},
     "output_type": "execute_result"
    }
   ],
   "source": [
    "i = np.eye(5)\n",
    "i"
   ]
  }
 ],
 "metadata": {
  "kernelspec": {
   "display_name": "Python 3 (ipykernel)",
   "language": "python",
   "name": "python3"
  },
  "language_info": {
   "codemirror_mode": {
    "name": "ipython",
    "version": 3
   },
   "file_extension": ".py",
   "mimetype": "text/x-python",
   "name": "python",
   "nbconvert_exporter": "python",
   "pygments_lexer": "ipython3",
   "version": "3.10.8"
  }
 },
 "nbformat": 4,
 "nbformat_minor": 5
}
