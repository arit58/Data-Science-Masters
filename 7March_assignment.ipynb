{
 "cells": [
  {
   "cell_type": "markdown",
   "id": "7f761117-2b91-422e-88ee-b0c819246fda",
   "metadata": {},
   "source": [
    "Q1. What are the three measures of central tendency? <br>\n",
    "Mean,median,mode"
   ]
  },
  {
   "cell_type": "markdown",
   "id": "641627c3-0ab0-4b01-a2c7-835e40ccb82f",
   "metadata": {},
   "source": [
    "Q2. What is the difference between the mean, median, and mode? How are they used to measure the\n",
    "central tendency of a dataset?<br>\n",
    "Mean is the average of all the values. Median is the middlemost value. Mode is the value that occurs the most number of times.<br>\n",
    "For normally distributed data, all three measures of central tendency will give you the same answer so they can all be used.\n",
    "\n",
    "In skewed distributions, the median is the best measure because it is unaffected by extreme outliers or non-symmetric distributions of scores. The mean and mode can vary in skewed distributions."
   ]
  },
  {
   "cell_type": "markdown",
   "id": "2be6d175-cc99-492c-bdc6-445bf9dfd80b",
   "metadata": {},
   "source": [
    "Q3. Measure the three measures of central tendency for the given height data:\n",
    "[178,177,176,177,178.2,178,175,179,180,175,178.9,176.2,177,172.5,178,176.5]"
   ]
  },
  {
   "cell_type": "code",
   "execution_count": 3,
   "id": "aecd4a3c-19ba-485a-adea-0fc89bdf94f0",
   "metadata": {},
   "outputs": [
    {
     "name": "stdout",
     "output_type": "stream",
     "text": [
      "177.01875\n",
      "177.0\n",
      "178\n"
     ]
    }
   ],
   "source": [
    "import numpy as np\n",
    "import statistics\n",
    "data = [178,177,176,177,178.2,178,175,179,180,175,178.9,176.2,177,172.5,178,176.5]\n",
    "print(np.mean(data))\n",
    "print(np.median(data))\n",
    "print(statistics.mode(data))"
   ]
  },
  {
   "cell_type": "markdown",
   "id": "7a030539-5622-4f49-bda8-8062fc251f12",
   "metadata": {},
   "source": [
    "Q4. Find the standard deviation for the given data:\n",
    "[178,177,176,177,178.2,178,175,179,180,175,178.9,176.2,177,172.5,178,176.5]"
   ]
  },
  {
   "cell_type": "code",
   "execution_count": 4,
   "id": "d843d262-ed62-446a-94e1-cd0440eedb2b",
   "metadata": {},
   "outputs": [
    {
     "data": {
      "text/plain": [
       "1.7885814036548633"
      ]
     },
     "execution_count": 4,
     "metadata": {},
     "output_type": "execute_result"
    }
   ],
   "source": [
    "data =[178,177,176,177,178.2,178,175,179,180,175,178.9,176.2,177,172.5,178,176.5]\n",
    "np.std(data)"
   ]
  },
  {
   "cell_type": "markdown",
   "id": "ed3af9f1-d4a1-44f0-bee8-5f74c78919ae",
   "metadata": {},
   "source": [
    "Q5. How are measures of dispersion such as range, variance, and standard deviation used to describe\n",
    "the spread of a dataset? Provide an example."
   ]
  },
  {
   "cell_type": "markdown",
   "id": "35bf8347-9d69-41d4-9f32-cbaa18256dd3",
   "metadata": {},
   "source": [
    "Range: Given a data set, the range can be defined as the difference between the maximum value and the minimum value.\n",
    "\n",
    "Variance: The average squared deviation from the mean of the given data set is known as the variance. This measure of dispersion checks the spread of the data about the mean.\n",
    "\n",
    "Standard Deviation: The square root of the variance gives the standard deviation. Thus, the standard deviation also measures the variation of the data about the mean."
   ]
  },
  {
   "cell_type": "markdown",
   "id": "31355dba-9060-4d03-8994-189a2e781a45",
   "metadata": {},
   "source": [
    "Q6. What is a Venn diagram?"
   ]
  },
  {
   "cell_type": "markdown",
   "id": "34b545e5-0c44-4748-aad1-82567ed782c5",
   "metadata": {},
   "source": [
    "A Venn diagram is an illustration that uses circles to show the relationships among things or finite groups of things. Circles that overlap have a commonality while circles that do not overlap do not share those traits."
   ]
  },
  {
   "cell_type": "markdown",
   "id": "a4d6546e-7d36-4df5-961f-c8340038f23e",
   "metadata": {},
   "source": [
    "Q7. For the two given sets A = (2,3,4,5,6,7) & B = (0,2,6,8,10). Find:\n",
    "(i) A intersection B\n",
    "(ii) A ⋃ B"
   ]
  },
  {
   "cell_type": "code",
   "execution_count": 8,
   "id": "c177457a-a683-496d-b8e6-68ac07cc19a1",
   "metadata": {},
   "outputs": [
    {
     "name": "stdout",
     "output_type": "stream",
     "text": [
      "{2, 6}\n",
      "{0, 2, 3, 4, 5, 6, 7, 8, 10}\n"
     ]
    }
   ],
   "source": [
    "A = {2,3,4,5,6,7}\n",
    "B = {0,2,6,8,10}\n",
    "print(A.intersection(B))\n",
    "print(A.union(B))"
   ]
  },
  {
   "cell_type": "markdown",
   "id": "dcf33eb1-6b4a-4327-8952-386bda4f8495",
   "metadata": {},
   "source": [
    "Q8. What do you understand about skewness in data?"
   ]
  },
  {
   "cell_type": "markdown",
   "id": "8ef27c11-0210-4019-bd6a-1ed9c89d3879",
   "metadata": {},
   "source": [
    "Skewness is a measurement of the distortion of symmetrical distribution or asymmetry in a data set. Skewness is demonstrated on a bell curve when data points are not distributed symmetrically to the left and right sides of the median on a bell curve. If the bell curve is shifted to the left or the right, it is said to be skewed."
   ]
  },
  {
   "cell_type": "markdown",
   "id": "1dc855d1-87c6-4ccf-9945-9a8570a1e2fc",
   "metadata": {},
   "source": [
    "Q9. If a data is right skewed then what will be the position of median with respect to mean?<br>\n",
    "Mean will be greater than median."
   ]
  },
  {
   "cell_type": "markdown",
   "id": "d8787598-f778-4699-ad45-14344826cbb5",
   "metadata": {},
   "source": [
    "Q10. Explain the difference between covariance and correlation. How are these measures used in\n",
    "statistical analysis?"
   ]
  },
  {
   "cell_type": "markdown",
   "id": "b2b25fad-51f2-489a-bc1c-a07733d49753",
   "metadata": {},
   "source": [
    "Covariance is a statistical term that refers to a systematic relationship between two random variables in which a change in the other reflects a change in one variable.In statistics, correlation is a measure that determines the degree to which two or more random variables move in sequence. <br>\n",
    "Covariance ranges from minus infinity to positive infinity, while correlation ranges from -1 to +1."
   ]
  },
  {
   "cell_type": "markdown",
   "id": "9563d988-d732-4514-8f3c-2a694603d6d0",
   "metadata": {},
   "source": [
    "Q11. What is the formula for calculating the sample mean? Provide an example calculation for a\n",
    "dataset.<br>\n",
    "Sample mean = (x1+x2+....+xn)/n\n",
    "eg, for scores 80,70,80,90, sample mean is (80+70+80+90)/4 = 80"
   ]
  },
  {
   "cell_type": "markdown",
   "id": "48733adb-d55a-445d-8a88-97aaf82ee37e",
   "metadata": {},
   "source": [
    "Q12. For a normal distribution data what is the relationship between its measure of central tendency?<br>\n",
    "Mean=median=mode"
   ]
  },
  {
   "cell_type": "markdown",
   "id": "8bb1a6e7-b2d1-45fc-a165-b71d9c57361f",
   "metadata": {},
   "source": [
    "Q13. How is covariance different from correlation?<br>\n",
    "Covariance is a statistical term that refers to a systematic relationship between two random variables in which a change in the other reflects a change in one variable.In statistics, correlation is a measure that determines the degree to which two or more random variables move in sequence. <br>\n",
    "Covariance ranges from minus infinity to positive infinity, while correlation ranges from -1 to +1."
   ]
  },
  {
   "cell_type": "markdown",
   "id": "3be63166-32c2-4c42-9afe-a49286d9f2b0",
   "metadata": {},
   "source": [
    "Q14. How do outliers affect measures of central tendency and dispersion? Provide an example.\n",
    "<br>\n",
    "Outliers affect the mean the most. If the outlier is towards the right hand, then it increases the mean. If the outlier is towards the left hand, it decreases the mean. The variance also increases a lot. For example, if the data is (20,30,25,15,30,200), variance is 4330 and mean is 53. However, median isn't affected much, and median is 27.5."
   ]
  }
 ],
 "metadata": {
  "kernelspec": {
   "display_name": "Python 3 (ipykernel)",
   "language": "python",
   "name": "python3"
  },
  "language_info": {
   "codemirror_mode": {
    "name": "ipython",
    "version": 3
   },
   "file_extension": ".py",
   "mimetype": "text/x-python",
   "name": "python",
   "nbconvert_exporter": "python",
   "pygments_lexer": "ipython3",
   "version": "3.10.8"
  }
 },
 "nbformat": 4,
 "nbformat_minor": 5
}
