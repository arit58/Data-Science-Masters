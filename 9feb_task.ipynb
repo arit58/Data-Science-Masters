{
 "cells": [
  {
   "cell_type": "markdown",
   "id": "48dda70c-aa18-4480-9a69-ddd7f52da1cc",
   "metadata": {},
   "source": [
    "Q1) Create a vehicle class with an init method having instance variables as name_of_vehicle, max_speed\n",
    "and average_of_vehicle."
   ]
  },
  {
   "cell_type": "code",
   "execution_count": 53,
   "id": "750b2d50-1362-468c-84cb-781b93148617",
   "metadata": {},
   "outputs": [],
   "source": [
    "class Vehicle :\n",
    "    \n",
    "    def __init__(self,name,max_speed,age_of_vehicle):\n",
    "        self.name = name\n",
    "        self.max_speed = max_speed\n",
    "        self.average_of_vehicle = age_of_vehicle"
   ]
  },
  {
   "cell_type": "markdown",
   "id": "e3782764-cd43-4716-9dea-24e37d35e82c",
   "metadata": {},
   "source": [
    "Q2. Create a child class car from the vehicle class created in Que 1, which will inherit the vehicle class.\n",
    "Create a method named seating_capacity which takes capacity as an argument and returns the name of\n",
    "the vehicle and its seating capacity."
   ]
  },
  {
   "cell_type": "code",
   "execution_count": 54,
   "id": "76d6a023-313e-4c24-91b3-186c2214b2bd",
   "metadata": {},
   "outputs": [],
   "source": [
    "class Car(Vehicle):\n",
    "    \n",
    "    def __init__(self,name,max_speed,age_of_vehicle):\n",
    "        super().__init__(name,max_speed,age_of_vehicle)\n",
    "\n",
    "    def seating_capacity(self,capacity):\n",
    "        self.capacity = capacity\n",
    "        return \"Name of car: {0}, capacity: {1}\".format(self.name, self.capacity)"
   ]
  },
  {
   "cell_type": "code",
   "execution_count": 55,
   "id": "be9bf7d9-93a5-4d1d-b84d-f3fbaf3b2d6a",
   "metadata": {},
   "outputs": [
    {
     "data": {
      "text/plain": [
       "'Name of car: renault, capacity: 5'"
      ]
     },
     "execution_count": 55,
     "metadata": {},
     "output_type": "execute_result"
    }
   ],
   "source": [
    "c1 = Car(\"renault\",200,2)\n",
    "c1.seating_capacity(5)"
   ]
  },
  {
   "cell_type": "markdown",
   "id": "370789a1-56c6-4a4f-8d77-5e2a2d2b5944",
   "metadata": {},
   "source": [
    "Q3. What is multiple inheritance? Write a python code to demonstrate multiple inheritance."
   ]
  },
  {
   "cell_type": "code",
   "execution_count": 58,
   "id": "646e8a00-8370-46b8-8c1e-6254ef87d24c",
   "metadata": {},
   "outputs": [
    {
     "name": "stdout",
     "output_type": "stream",
     "text": [
      "This is child class..\n",
      "This is parent1 class..\n",
      "This is parent2 class..\n"
     ]
    }
   ],
   "source": [
    "#Multiple inheritance is the type of inheritance where the child class inherits from multiple parent classes.\n",
    "\n",
    "class Parent1:\n",
    "    def display1(self):\n",
    "        print(\"This is parent1 class..\")\n",
    "\n",
    "class Parent2:\n",
    "    def display2(self):\n",
    "        print(\"This is parent2 class..\")\n",
    "\n",
    "class Child(Parent1,Parent2):\n",
    "    def display3(self):\n",
    "        print(\"This is child class..\")\n",
    "            \n",
    "child_obj = Child()\n",
    "child_obj.display3()\n",
    "child_obj.display1()\n",
    "child_obj.display2()"
   ]
  },
  {
   "cell_type": "markdown",
   "id": "5123f2b4-c5b2-4e4c-8e39-a38475a61e29",
   "metadata": {},
   "source": [
    "Q4. What are getter and setter in python? Create a class and create a getter and a setter method in this class."
   ]
  },
  {
   "cell_type": "code",
   "execution_count": 61,
   "id": "87fda65d-74d6-4e8f-b80e-51669719368d",
   "metadata": {},
   "outputs": [],
   "source": [
    "#Getter is a method which is used to get the value of an attribute in a class. Setter is a method used to set or change the value of an attribute.\n",
    "#They are used for data encapsulation.\n",
    "\n",
    "class A:\n",
    "    def __init__(self,value):\n",
    "        self._value = value\n",
    "    \n",
    "    def get_val(self):\n",
    "        return self._value\n",
    "    \n",
    "    def set_val(self,val):\n",
    "        self._value = val"
   ]
  },
  {
   "cell_type": "code",
   "execution_count": 64,
   "id": "8e4d6508-36e1-4f37-8a94-7bc90df3da0d",
   "metadata": {},
   "outputs": [
    {
     "data": {
      "text/plain": [
       "1"
      ]
     },
     "execution_count": 64,
     "metadata": {},
     "output_type": "execute_result"
    }
   ],
   "source": [
    "a = A(1)\n",
    "a.get_val()"
   ]
  },
  {
   "cell_type": "code",
   "execution_count": 65,
   "id": "9ae0b033-066c-4599-aad4-d728f88adaab",
   "metadata": {},
   "outputs": [
    {
     "data": {
      "text/plain": [
       "2"
      ]
     },
     "execution_count": 65,
     "metadata": {},
     "output_type": "execute_result"
    }
   ],
   "source": [
    "a.set_val(2)\n",
    "a.get_val()"
   ]
  },
  {
   "cell_type": "markdown",
   "id": "35622482-680d-4937-bf80-edc100e4c729",
   "metadata": {},
   "source": [
    "What is method overriding in python? Write a python code to demonstrate method overriding."
   ]
  },
  {
   "cell_type": "code",
   "execution_count": 66,
   "id": "609cedd9-5ceb-4f41-b504-2e8e213d464b",
   "metadata": {},
   "outputs": [
    {
     "name": "stdout",
     "output_type": "stream",
     "text": [
      "This is child class...\n"
     ]
    }
   ],
   "source": [
    "\"\"\"Method overriding is a concept of OOPs, in which a child class can have a specific, modified implementation of a function\n",
    "already defined in the parent class.\"\"\"\n",
    "\n",
    "class Parent():\n",
    "    def show(self):\n",
    "        print(\"This is parent class...\")\n",
    "        \n",
    "class Child(Parent):\n",
    "    def show(self):\n",
    "        print(\"This is child class...\")\n",
    "        \n",
    "child_obj = Child()\n",
    "child_obj.show()"
   ]
  }
 ],
 "metadata": {
  "kernelspec": {
   "display_name": "Python 3 (ipykernel)",
   "language": "python",
   "name": "python3"
  },
  "language_info": {
   "codemirror_mode": {
    "name": "ipython",
    "version": 3
   },
   "file_extension": ".py",
   "mimetype": "text/x-python",
   "name": "python",
   "nbconvert_exporter": "python",
   "pygments_lexer": "ipython3",
   "version": "3.10.8"
  }
 },
 "nbformat": 4,
 "nbformat_minor": 5
}
