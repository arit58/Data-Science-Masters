{
 "cells": [
  {
   "cell_type": "markdown",
   "id": "8ac54312-520e-4205-bfd5-e4dcd0d11fe2",
   "metadata": {},
   "source": [
    "Q1. What are the characteristics of the tuples? Is tuple immutable?\n",
    "Ans: Tuples are ordered, can be indexed, immutable and can contain duplicates.\n",
    "     Yes, tuples are immutable."
   ]
  },
  {
   "cell_type": "markdown",
   "id": "87152080-84cb-4981-ba97-37e72211c3ba",
   "metadata": {},
   "source": [
    "Q2. What are the two tuple methods in python? Give an example of each method. Give a reason why\n",
    "tuples have only two in-built methods as compared to Lists."
   ]
  },
  {
   "cell_type": "code",
   "execution_count": 12,
   "id": "5bdaceba-ee5c-4e16-acd3-c81cb85f8d36",
   "metadata": {},
   "outputs": [
    {
     "name": "stdout",
     "output_type": "stream",
     "text": [
      "4 is present 2 times\n",
      "4 is first found at 3 index\n"
     ]
    }
   ],
   "source": [
    "#The two tuple methods are count() and index().\n",
    "\n",
    "t= (1,1,2,4,6,7,5,4,1)\n",
    "print(\"4 is present {} times\".format(t.count(4)))\n",
    "print(\"4 is first found at {} index\".format(t.index(4,0,8)))"
   ]
  },
  {
   "cell_type": "markdown",
   "id": "3e7afa50-5215-4097-a3a0-60e97e30102b",
   "metadata": {},
   "source": [
    "Q3. Which collection datatypes in python do not allow duplicate items? Write a code using a set to remove\n",
    "duplicates from the given list.\n",
    "List = [1, 1, 1, 2, 1, 3, 1, 4, 2, 1, 2, 2, 2, 3, 2, 4, 3, 1, 3, 2, 3, 3, 3, 4, 4, 1, 4, 2, 4, 3, 4, 4]"
   ]
  },
  {
   "cell_type": "code",
   "execution_count": 13,
   "id": "04f3d921-5c59-4522-94cb-c7b49490c720",
   "metadata": {},
   "outputs": [
    {
     "name": "stdout",
     "output_type": "stream",
     "text": [
      "{1, 2, 3, 4}\n"
     ]
    }
   ],
   "source": [
    "#Set doesn't allow duplicate items.\n",
    "\n",
    "lst = [1, 1, 1, 2, 1, 3, 1, 4, 2, 1, 2, 2, 2, 3, 2, 4, 3, 1, 3, 2, 3, 3, 3, 4, 4, 1, 4, 2, 4, 3, 4, 4]\n",
    "my_set = set(lst)\n",
    "print(my_set)"
   ]
  },
  {
   "cell_type": "markdown",
   "id": "5fb1abd4-2d03-49de-a353-c73eaa549121",
   "metadata": {},
   "source": [
    "Q4. Explain the difference between the union() and update() methods for a set. Give an example of\n",
    "each method."
   ]
  },
  {
   "cell_type": "code",
   "execution_count": 26,
   "id": "0cf68f85-9548-48d3-ab2c-571ff1039337",
   "metadata": {},
   "outputs": [
    {
     "name": "stdout",
     "output_type": "stream",
     "text": [
      "update returns None\n",
      "original set updated:  {1, 2, 3, 4, 5}\n",
      "New set returned from union is  {1, 2, 3, 4, 5, 6}\n"
     ]
    }
   ],
   "source": [
    "\"\"\"update() adds the elements in an iterable to a set. It modifies the existing set on which the method was called.\n",
    " It doesn't return anything. union() adds two sets and creates a new set.\"\"\"\n",
    "\n",
    "s1 = {1,2,3}\n",
    "print(\"update returns\",s1.update({4,5}))\n",
    "print(\"original set updated: \",s1)\n",
    "s2 = s1.union({4,5,6})\n",
    "print(\"New set returned from union is \",s2)"
   ]
  },
  {
   "cell_type": "markdown",
   "id": "1a543cf7-6fdf-463c-b48d-fb1ab39cf83b",
   "metadata": {},
   "source": [
    "Q5. What is a dictionary? Give an example. Also, state whether a dictionary is ordered or unordered.\n",
    "Ans: Dictionary is a collection of items which contains key:value pairs. It is immutable and do not allow duplicates keys.\n",
    "Dictionary is ordered since python version 3.7.In 3.6 python version and earlier, it was unordered."
   ]
  },
  {
   "cell_type": "code",
   "execution_count": null,
   "id": "a9d07bf5-90f4-4c2d-b348-63b22fbfa62b",
   "metadata": {},
   "outputs": [],
   "source": [
    "Q6. Can we create a nested dictionary? If so, please give an example by creating a simple one-level\n",
    "nested dictionary."
   ]
  },
  {
   "cell_type": "code",
   "execution_count": 31,
   "id": "cbb11009-d8a3-4bc9-872e-79b87f2ae1a4",
   "metadata": {},
   "outputs": [
    {
     "name": "stdout",
     "output_type": "stream",
     "text": [
      "Krish\n"
     ]
    }
   ],
   "source": [
    "#Yes, nested dictionary is possible.\n",
    "d = {'language' : 'Python', 'course': 'Data Science Masters', 'Mentors':{1:'Krish',2:'Sudhanshu'}}\n",
    "print(d['Mentors'][1])"
   ]
  },
  {
   "cell_type": "markdown",
   "id": "ea5aa514-ab58-40d7-a7f5-1ab37492375c",
   "metadata": {},
   "source": [
    "Q7. Using setdefault() method, create key named topics in the given dictionary and also add the value of\n",
    "the key as this list ['Python', 'Machine Learning’, 'Deep Learning']\n",
    "dict1 = {'language' : 'Python', 'course': 'Data Science Masters'}"
   ]
  },
  {
   "cell_type": "code",
   "execution_count": 33,
   "id": "f6c45881-1a67-488c-8d70-69cab57347d4",
   "metadata": {},
   "outputs": [
    {
     "name": "stdout",
     "output_type": "stream",
     "text": [
      "{'language': 'Python', 'course': 'Data Science Masters', 'topic': ['Python', 'Machine Learning', 'Deep Learning']}\n"
     ]
    }
   ],
   "source": [
    "dict1 = {'language' : 'Python', 'course': 'Data Science Masters'}\n",
    "topic = dict1.setdefault('topic',['Python', 'Machine Learning', 'Deep Learning'])               \n",
    "print(dict1)                                "
   ]
  },
  {
   "cell_type": "markdown",
   "id": "730bcfec-faf8-4171-a351-47710dc2c01d",
   "metadata": {},
   "source": [
    "Q8. What are the three view objects in dictionaries? Use the three in-built methods in python to display\n",
    "these three view objects for the given dictionary.\n",
    "dict1 = {'Sport': 'Cricket' , 'Teams': ['India', 'Australia', 'England', 'South Africa', 'Sri Lanka', 'New Zealand']}"
   ]
  },
  {
   "cell_type": "code",
   "execution_count": 35,
   "id": "07bc18a5-bd4b-4cec-a993-0a234717b7c9",
   "metadata": {},
   "outputs": [
    {
     "name": "stdout",
     "output_type": "stream",
     "text": [
      "dict_keys(['Sport', 'Teams'])\n",
      "dict_values(['Cricket', ['India', 'Australia', 'England', 'South Africa', 'Sri Lanka', 'New Zealand']])\n",
      "dict_items([('Sport', 'Cricket'), ('Teams', ['India', 'Australia', 'England', 'South Africa', 'Sri Lanka', 'New Zealand'])])\n"
     ]
    }
   ],
   "source": [
    "#The three view objects of dictionary in python are keys, values and items.\n",
    "\n",
    "dict1 = {'Sport': 'Cricket' , 'Teams': ['India', 'Australia', 'England', 'South Africa', 'Sri Lanka', 'New Zealand']}\n",
    "print(dict1.keys())\n",
    "print(dict1.values())\n",
    "print(dict1.items())"
   ]
  }
 ],
 "metadata": {
  "kernelspec": {
   "display_name": "Python 3 (ipykernel)",
   "language": "python",
   "name": "python3"
  },
  "language_info": {
   "codemirror_mode": {
    "name": "ipython",
    "version": 3
   },
   "file_extension": ".py",
   "mimetype": "text/x-python",
   "name": "python",
   "nbconvert_exporter": "python",
   "pygments_lexer": "ipython3",
   "version": "3.10.8"
  }
 },
 "nbformat": 4,
 "nbformat_minor": 5
}
