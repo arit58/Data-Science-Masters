{
 "cells": [
  {
   "cell_type": "markdown",
   "id": "fb8cce8e-7dfd-4332-978e-d410154473a7",
   "metadata": {},
   "source": [
    "Q1: What is Estimation Statistics? Explain point estimate and interval estimate.<br>\n",
    "Estimation refers to the process by which one makes inferences about a population, based on information obtained from a sample.<br>\n",
    "\n",
    "Point estimate: A point estimate of a population parameter is a single value of a statistic. For example, the sample mean x is a point estimate of the population mean μ. Similarly, the sample proportion p is a point estimate of the population proportion P.<br>\n",
    "\n",
    "Interval estimate: An interval estimate is defined by two numbers, between which a population parameter is said to lie. For example, a < x < b is an interval estimate of the population mean μ. It indicates that the population mean is greater than a but less than b."
   ]
  },
  {
   "cell_type": "markdown",
   "id": "5053f43a-0891-4efd-8fbf-637813a65c22",
   "metadata": {},
   "source": [
    "Q2. Write a Python function to estimate the population mean using a sample mean and standard\n",
    "deviation."
   ]
  },
  {
   "cell_type": "code",
   "execution_count": 6,
   "id": "85d0313b-917b-4de1-8b5c-10c0ac6900a7",
   "metadata": {},
   "outputs": [],
   "source": [
    "def estimate_population_mean(sample_mean, sample_std_dev, sample_size):\n",
    "    import math\n",
    "    # calculate the standard error of the mean\n",
    "    std_error_mean = sample_std_dev / math.sqrt(sample_size)\n",
    "    # calculate the estimated population mean\n",
    "    population_mean = sample_mean + std_error_mean\n",
    "    return population_mean"
   ]
  },
  {
   "cell_type": "code",
   "execution_count": 7,
   "id": "109a0c35-ee2f-4451-97a2-a45f521ea4bf",
   "metadata": {},
   "outputs": [
    {
     "name": "stdout",
     "output_type": "stream",
     "text": [
      "Estimated population mean: 100.70710678118655\n"
     ]
    }
   ],
   "source": [
    "# example usage\n",
    "sample_mean = 100\n",
    "sample_std_dev = 10\n",
    "sample_size = 200\n",
    "\n",
    "estimated_population_mean = estimate_population_mean(sample_mean, sample_std_dev, sample_size)\n",
    "print(\"Estimated population mean:\", estimated_population_mean)"
   ]
  },
  {
   "cell_type": "markdown",
   "id": "3ab84754-ca53-4722-866a-2b3eced590f1",
   "metadata": {},
   "source": [
    "Q3: What is Hypothesis testing? Why is it used? State the importance of Hypothesis testing.<br>\n",
    "Hypothesis testing is the process used to evaluate the strength of evidence from the sample and provides a framework for making determinations related to the population, ie, it provides a method for understanding how reliably one can extrapolate observed findings in a sample under study to the larger population from which the sample was drawn. The investigator formulates a specific hypothesis, evaluates data from the sample, and uses these data to decide whether they support the specific hypothesis.<br>\n",
    "\n",
    "Hypothesis testing is one of the most important concepts in statistics because it is how you decide if something really happened, or if certain treatments have positive effects, or if groups differ from each other or if one variable predicts another. In short, you want to proof if your data is statistically significant and unlikely to have occurred by chance alone. "
   ]
  },
  {
   "cell_type": "markdown",
   "id": "38901f47-a3db-4277-864c-d26a725f478e",
   "metadata": {},
   "source": [
    "Q4. Create a hypothesis that states whether the average weight of male college students is greater than\n",
    "the average weight of female college students.<br>\n",
    "The null hypothesis,H0 : The average weight of male students is not greater than the average weight of female college students.<br>\n",
    "The alternative hypothesis, H1 : The average weight of male students is greater than the average weight of female college students."
   ]
  },
  {
   "cell_type": "markdown",
   "id": "fe92abd5-2f96-46a6-a4cb-d1c4af3ab77c",
   "metadata": {},
   "source": [
    "Q5. Write a Python script to conduct a hypothesis test on the difference between two population means,\n",
    "given a sample from each population."
   ]
  },
  {
   "cell_type": "code",
   "execution_count": 8,
   "id": "234564fd-761d-4e86-ab19-2aa57a157e41",
   "metadata": {},
   "outputs": [
    {
     "name": "stdout",
     "output_type": "stream",
     "text": [
      "Fail to reject the null hypothesis.\n",
      "t-statistic:  0.0\n",
      "p-value:  1.0\n"
     ]
    }
   ],
   "source": [
    "import numpy as np\n",
    "from scipy.stats import ttest_ind\n",
    "\n",
    "# sample data from two populations\n",
    "x = np.array([10, 12, 14, 16, 18])\n",
    "y = np.array([8, 11, 14, 17, 20])\n",
    "\n",
    "# conduct a two-sample t-test assuming equal variances\n",
    "t, p = ttest_ind(x, y, equal_var=True)\n",
    "\n",
    "alpha = 0.05  # significance level\n",
    "if p < alpha:\n",
    "    print(\"Reject the null hypothesis.\")\n",
    "else:\n",
    "    print(\"Fail to reject the null hypothesis.\")\n",
    "\n",
    "print(\"t-statistic: \", t)\n",
    "print(\"p-value: \", p)"
   ]
  },
  {
   "cell_type": "markdown",
   "id": "7d4f8155-ff66-4b4c-aed3-b6ea3027a448",
   "metadata": {},
   "source": [
    "Q6: What is a null and alternative hypothesis? Give some examples.<br>\n",
    " null hypothesis is a statement or assumption that there is no relationship or no difference between two or more variables, populations, or treatments. It is usually denoted as H0 and represents the status quo or the default assumption. The null hypothesis is often the starting point for statistical tests and hypothesis testing, and it is tested against an alternative hypothesis to determine if there is enough evidence to reject the null hypothesis.<br>\n",
    " \n",
    "An alternative hypothesis is a statement or claim that there is a relationship or a difference between two or more variables, populations, or treatments. It is denoted as H1 or Ha and represents the assertion or the claim that we are testing. The alternative hypothesis can take different forms, depending on the research question, the type of data, and the nature of the relationship or difference."
   ]
  },
  {
   "cell_type": "markdown",
   "id": "bb97de30-5c3c-4c11-8346-bb03c4915e18",
   "metadata": {},
   "source": [
    "Q7: Write down the steps involved in hypothesis testing.<br>\n",
    "The following steps are involved:\n",
    "Define the research question: Identify the research question or problem of interest and formulate a clear research question or hypothesis.\n",
    "\n",
    "Formulate the null and alternative hypotheses: Specify the null hypothesis (H0) and alternative hypothesis (H1) that represent the claim or assertion being tested.\n",
    "\n",
    "Choose the significance level: Determine the significance level (α) or the level of risk of rejecting a true null hypothesis. Common values for alpha are 0.05 or 0.01.\n",
    "\n",
    "Collect the data: Collect a sample of data that is representative of the population of interest.\n",
    "\n",
    "Calculate the test statistic: Calculate a test statistic that measures the difference or relationship between the sample data and the null hypothesis.\n",
    "\n",
    "Determine the p-value: Determine the p-value, which is the probability of observing a test statistic as extreme or more extreme than the observed value, assuming the null hypothesis is true.\n",
    "\n",
    "Make a decision: Compare the p-value to the significance level α, and make a decision whether to reject the null hypothesis or fail to reject it. If the p-value is less than α, reject the null hypothesis and conclude that there is evidence in favor of the alternative hypothesis. If the p-value is greater than α, fail to reject the null hypothesis and conclude that there is insufficient evidence to reject the null hypothesis.\n",
    "\n",
    "Interpret the results: Interpret the results in the context of the research question or hypothesis, and draw conclusions about the population based on the sample data.\n",
    "\n",
    "Report the findings: Report the findings of the hypothesis test, including the null and alternative hypotheses, the test statistic, the p-value, the decision, and the conclusion.\n",
    "\n",
    "It is important to note that hypothesis testing is not a definitive answer, but rather a process of evaluating evidence and making decisions based on probabilities. The conclusion reached from a hypothesis test is only valid for the specific data and assumptions used in the test, and cannot be generalized to other populations or contexts without further testing."
   ]
  },
  {
   "cell_type": "markdown",
   "id": "dafcc885-4cbf-4845-af67-082503806ca2",
   "metadata": {},
   "source": [
    "Q8. Define p-value and explain its significance in hypothesis testing.<br>\n",
    "\n",
    "In hypothesis testing, the p-value is a probability value that measures the strength of evidence against the null hypothesis (H0). Specifically, it is the probability of obtaining a test statistic as extreme or more extreme than the observed value, assuming that the null hypothesis is true. The p-value ranges from 0 to 1, with smaller p-values indicating stronger evidence against the null hypothesis.\n",
    "\n",
    "The significance of the p-value in hypothesis testing is that it provides a way to quantify the strength of evidence against the null hypothesis. A low p-value (e.g., less than 0.05 or 0.01) suggests that the observed data are unlikely to have occurred by chance if the null hypothesis is true, and therefore provides evidence in favor of the alternative hypothesis (H1). Conversely, a high p-value (e.g., greater than 0.05 or 0.01) suggests that the observed data are likely to have occurred by chance even if the null hypothesis is true, and therefore fails to provide evidence against the null hypothesis.\n",
    "\n",
    "The p-value also serves as a basis for making a decision about whether to reject or fail to reject the null hypothesis. If the p-value is less than the significance level (alpha), typically 0.05 or 0.01, then the null hypothesis is rejected in favor of the alternative hypothesis. If the p-value is greater than the significance level, then the null hypothesis is not rejected and it is concluded that there is not enough evidence to support the alternative hypothesis.\n",
    "\n",
    "Overall, the p-value is an important concept in hypothesis testing because it allows researchers to make informed decisions based on evidence and probabilities, and provides a quantitative measure of the strength of the evidence against the null hypothesis."
   ]
  },
  {
   "cell_type": "markdown",
   "id": "9195bfc3-305a-45cc-854d-2cd8ab7fa3f8",
   "metadata": {},
   "source": [
    "Q9. Generate a Student's t-distribution plot using Python's matplotlib library, with the degrees of freedom\n",
    "parameter set to 10."
   ]
  },
  {
   "cell_type": "code",
   "execution_count": 11,
   "id": "733e0861-f71e-4a2f-89a3-952cd302aff1",
   "metadata": {},
   "outputs": [
    {
     "data": {
      "image/png": "[encoded data removed]",
      "text/plain": [
       "<Figure size 640x480 with 1 Axes>"
      ]
     },
     "metadata": {},
     "output_type": "display_data"
    }
   ],
   "source": [
    "import numpy as np\n",
    "import matplotlib.pyplot as plt\n",
    "from scipy.stats import t\n",
    "\n",
    "df = 10\n",
    "x = np.linspace(t.ppf(0.01,df),t.ppf(0.99,df),100)\n",
    "pdf = t.pdf(x,10)\n",
    "\n",
    "plt.plot(x,pdf,'r-',lw='2',label='t pdf')\n",
    "\n",
    "plt.xlabel('x')\n",
    "plt.ylabel('Probability density')\n",
    "plt.title(\"Student's t-distribution (df=10)\")\n",
    "plt.legend()\n",
    "plt.show()"
   ]
  },
  {
   "cell_type": "markdown",
   "id": "ab746488-9408-44ed-8876-94360acf8675",
   "metadata": {},
   "source": [
    "Q10. Write a Python program to calculate the two-sample t-test for independent samples, given two\n",
    "random samples of equal size and a null hypothesis that the population means are equal."
   ]
  },
  {
   "cell_type": "code",
   "execution_count": 12,
   "id": "7223a283-c491-43ff-853f-4b5faefcbfb3",
   "metadata": {},
   "outputs": [
    {
     "name": "stdout",
     "output_type": "stream",
     "text": [
      "Sample 1 mean: 3.0\n",
      "Sample 2 mean: 8.0\n",
      "Sample 1 standard deviation: 1.5811388300841898\n",
      "Sample 2 standard deviation: 1.5811388300841898\n",
      "t-statistic: -5.0\n",
      "p-value: 0.0010528257933664076\n"
     ]
    }
   ],
   "source": [
    "import math\n",
    "from scipy.stats import t\n",
    "\n",
    "# input two samples and null hypothesis\n",
    "sample1 = [1, 2, 3, 4, 5]\n",
    "sample2 = [6, 7, 8, 9, 10]\n",
    "null_hypothesis = 0\n",
    "\n",
    "# calculate the mean and standard deviation of the samples\n",
    "mean1 = sum(sample1) / len(sample1)\n",
    "mean2 = sum(sample2) / len(sample2)\n",
    "std1 = math.sqrt(sum([(x - mean1)**2 for x in sample1]) / (len(sample1) - 1))\n",
    "std2 = math.sqrt(sum([(x - mean2)**2 for x in sample2]) / (len(sample2) - 1))\n",
    "\n",
    "# calculate the t-statistic and p-value\n",
    "t_stat = (mean1 - mean2 - null_hypothesis) / math.sqrt((std1**2 / len(sample1)) + (std2**2 / len(sample2)))\n",
    "df = len(sample1) + len(sample2) - 2\n",
    "p_value = (1 - t.cdf(abs(t_stat), df)) * 2\n",
    "\n",
    "# output the results\n",
    "print(\"Sample 1 mean:\", mean1)\n",
    "print(\"Sample 2 mean:\", mean2)\n",
    "print(\"Sample 1 standard deviation:\", std1)\n",
    "print(\"Sample 2 standard deviation:\", std2)\n",
    "print(\"t-statistic:\", t_stat)\n",
    "print(\"p-value:\", p_value)"
   ]
  },
  {
   "cell_type": "markdown",
   "id": "80ffad11-591a-4e15-9bee-5329adcad5fb",
   "metadata": {},
   "source": [
    "Q11: What is Student’s t distribution? When to use the t-Distribution. <br>\n",
    "The Student's t distribution is a probability distribution that is used to model the variability of a sample mean when the sample size is small or the population standard deviation is unknown. It is a type of continuous probability distribution and is often used in statistical hypothesis testing and confidence interval estimation.\n",
    "The shape of the t-distribution depends on a parameter called degrees of freedom (df), which is determined by the sample size. The t-distribution approaches the standard normal distribution as the sample size increases. When the degrees of freedom are small, the t-distribution has thicker tails than the standard normal distribution, which means it is more likely to produce extreme values.\n",
    "\n",
    "The t-distribution is used in a variety of statistical applications, such as hypothesis testing, confidence interval estimation, and linear regression analysis. It is an important tool for statisticians and data analysts when working with small sample sizes or when the population standard deviation is unknown."
   ]
  },
  {
   "cell_type": "markdown",
   "id": "0929ed62-ae11-4ed2-92f4-35d5be85d489",
   "metadata": {},
   "source": [
    "Q12: What is t-statistic? State the formula for t-statistic.<br>\n",
    "The t statistic is a calculation performed during a t-test to determine if you should reject your null hypothesis.<br>\n",
    "It is commonly used in hypothesis testing to determine if a sample mean is significantly different from a hypothesized population mean.<br>\n",
    "The formula for the t-statistic is:<br>\n",
    "t = (x̄ - μ) / (s / sqrt(n))"
   ]
  },
  {
   "cell_type": "markdown",
   "id": "16af02f8-a289-4fea-a2f1-6c5f830d8d1f",
   "metadata": {},
   "source": [
    "Q13. A coffee shop owner wants to estimate the average daily revenue for their shop. They take a random\n",
    "sample of 50 days and find the sample mean revenue to be $500 with a standard deviation of $50.\n",
    "Estimate the population mean revenue with a 95% confidence interval.<br>\n",
    "\n",
    "CI = x̄ ± t*(s/√n)<br>\n",
    "\n",
    "Where:<br>\n",
    "x̄ = sample mean revenue (500)   \n",
    "s = sample standard deviation (50) <br>\n",
    "n = sample size (50)<br>\n",
    "t = the critical value from the t-distribution with n-1 degrees of freedom and a 95% confidence level (from a t-table, t=2.009)<br>\n",
    "\n",
    "Substituting the given values, we get:\n",
    "\n",
    "CI = 500 ± 2.009*(50/√50)\n",
    "\n",
    "Simplifying the equation, we get:\n",
    "\n",
    "CI = 500 ± 5.65\n",
    "\n",
    "CI = (494.35, 505.65)\n"
   ]
  },
  {
   "cell_type": "markdown",
   "id": "a3abe388-74cd-4cb4-a916-157b06fe8364",
   "metadata": {},
   "source": [
    "Q14. A researcher hypothesizes that a new drug will decrease blood pressure by 10 mmHg. They conduct a\n",
    "clinical trial with 100 patients and find that the sample mean decrease in blood pressure is 8 mmHg with a\n",
    "standard deviation of 3 mmHg. Test the hypothesis with a significance level of 0.05. <br>\n",
    "The test statistic for the one-sample t-test is:\n",
    "\n",
    "t = (sample mean - hypothesized mean) / (sample standard deviation / sqrt(sample size))\n",
    "\n",
    "Plugging in the values from the problem, we get:\n",
    "\n",
    "t = (8 - 10) / (3 / sqrt(100))\n",
    "t = -6.67\n",
    "\n",
    "The calculated t-value is -6.67. This means that the sample mean is 4 standard errors below the hypothesized mean. We can look up the critical t-value for a one-tailed test with 99 degrees of freedom (100 - 1) and a significance level of 0.05 using a t-table or a statistical software. For this test, the critical t-value is -1.660.\n",
    "\n",
    "Since our calculated t-value (-6.67) is less than the critical t-value (-1.660), we can reject the null hypothesis at the 0.05 significance level. Therefore, we have sufficient evidence to conclude that the new drug decreases blood pressure by more than 10 mmHg."
   ]
  },
  {
   "cell_type": "markdown",
   "id": "ed31207d-98d6-4350-8d26-687237d9415a",
   "metadata": {},
   "source": [
    "Q15. An electronics company produces a certain type of product with a mean weight of 5 pounds and a\n",
    "standard deviation of 0.5 pounds. A random sample of 25 products is taken, and the sample mean weight\n",
    "is found to be 4.8 pounds. Test the hypothesis that the true mean weight of the products is less than 5\n",
    "pounds with a significance level of 0.01. <br>\n",
    "\n",
    "To test the hypothesis that the true mean weight of the products is less than 5 pounds, we will conduct a one-tailed t-test with the following null and alternative hypotheses:\n",
    "\n",
    "Null hypothesis: The true mean weight of the products is equal to or greater than 5 pounds.\n",
    "Alternative hypothesis: The true mean weight of the products is less than 5 pounds.\n",
    "\n",
    "We can use the t-distribution to calculate the test statistic and p-value. The formula for the one-sample t-test statistic is:\n",
    "\n",
    "t = (sample mean - hypothesized mean) / (sample standard deviation / sqrt(sample size))\n",
    "\n",
    "Plugging in the values from the problem, we get:\n",
    "\n",
    "t = (4.8 - 5) / (0.5 / sqrt(25))\n",
    "t = -2\n",
    "\n",
    "The calculated t-value is -2. This means that the sample mean is 2 standard errors below the hypothesized mean. We can look up the critical t-value for a one-tailed test with 24 degrees of freedom (25 - 1) and a significance level of 0.01 using a t-table or a statistical software. For this test, the critical t-value is -2.492.\n",
    "\n",
    "Since our calculated t-value (-2) is greater than the critical t-value (-2.492), we fail to reject the null hypothesis at the 0.01 significance level."
   ]
  },
  {
   "cell_type": "markdown",
   "id": "7d7bbc88-d73d-481b-ae9b-495fc66cedb5",
   "metadata": {},
   "source": [
    "Q16. Two groups of students are given different study materials to prepare for a test. The first group (n1 =\n",
    "30) has a mean score of 80 with a standard deviation of 10, and the second group (n2 = 40) has a mean\n",
    "score of 75 with a standard deviation of 8. Test the hypothesis that the population means for the two\n",
    "groups are equal with a significance level of 0.01. <br>\n",
    "\n",
    "The null hypothesis is that the population means for the two groups are equal, while the alternative hypothesis is that they are not equal.<br>\n",
    "\n",
    "Using the two sampled t test formula, t value is calculated and found to be 2.26.\n",
    "The critical t value for 68 degrees of freedom(n1+n2-2), is found to be 2.65.\n",
    "Since the calculated t value is greater less than the critical t value, we fail to reject the null hypothesis. So we don't have enough evidence to say that the population means for the two groups are not equal at the mentioned significance level."
   ]
  },
  {
   "cell_type": "markdown",
   "id": "e77e6c72-3e75-48b0-96e2-db2ebcd249a2",
   "metadata": {},
   "source": [
    "Q17. A marketing company wants to estimate the average number of ads watched by viewers during a TV\n",
    "program. They take a random sample of 50 viewers and find that the sample mean is 4 with a standard\n",
    "deviation of 1.5. Estimate the population mean with a 99% confidence interval."
   ]
  },
  {
   "cell_type": "markdown",
   "id": "d32b17b3-ce2c-4ac6-ac7d-c5c57f9ccfbd",
   "metadata": {},
   "source": [
    "Confidence Interval = Sample Mean ± (Z critical value) * (Standard Error)\n",
    "\n",
    "Where the Z critical value is the number of standard deviations from the mean that corresponds to the desired level of confidence, and the Standard Error is the standard deviation of the sampling distribution of the mean.\n",
    "\n",
    "Since we want to find the 99% confidence interval, the Z critical value can be found using a Z-table or calculator. The Z critical value for a 99% confidence interval is 2.576.\n",
    "\n",
    "The standard error can be calculated as:\n",
    "\n",
    "Standard Error = Standard Deviation / sqrt(sample size)\n",
    "\n",
    "Substituting the given values, we get:\n",
    "\n",
    "Standard Error = 1.5 / sqrt(50) = 0.2121\n",
    "\n",
    "Therefore, the 99% confidence interval can be calculated as:\n",
    "\n",
    "Confidence Interval = 4 ± (2.576 * 0.2121) = (3.457, 4.543)\n",
    "\n",
    "So we can say with 99% confidence that the population mean of the number of ads watched by viewers during a TV program lies between 3.457 and 4.543."
   ]
  }
 ],
 "metadata": {
  "kernelspec": {
   "display_name": "Python 3 (ipykernel)",
   "language": "python",
   "name": "python3"
  },
  "language_info": {
   "codemirror_mode": {
    "name": "ipython",
    "version": 3
   },
   "file_extension": ".py",
   "mimetype": "text/x-python",
   "name": "python",
   "nbconvert_exporter": "python",
   "pygments_lexer": "ipython3",
   "version": "3.10.8"
  }
 },
 "nbformat": 4,
 "nbformat_minor": 5
}
