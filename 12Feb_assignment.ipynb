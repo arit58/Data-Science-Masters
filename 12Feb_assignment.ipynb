{
 "cells": [
  {
   "cell_type": "markdown",
   "id": "25a59ec1-2c7a-4ac1-b099-97959ba973b8",
   "metadata": {},
   "source": [
    "Q1. What is an Exception in python? Write the difference between Exceptions and Syntax errors.\n",
    "<br>\n",
    "An exception is an event, which occurs during the execution of a program that disrupts the normal flow of the program's instructions. In general, when a Python script encounters a situation that it cannot cope with, it raises an exception. \n",
    "<br>\n",
    "The syntax error exception occurs when the code does not conform to Python keywords, naming style, or programming structure. The interpreter sees the invalid syntax during its parsing phase and raises a SyntaxError exception. The program stops and fails at the point where the syntax error happened. That’s why syntax errors are exceptions that can’t be handled.\n",
    "<br>\n",
    "On the other hand, an exception happens when the code has no syntax error but encounters other error situations. These conditions can be addressed within the code—either in the current function or in the calling stack. A Python program can continue to run if it gracefully handles the exception."
   ]
  },
  {
   "cell_type": "markdown",
   "id": "d1939c16-8e53-41d8-876d-42c88dc9e769",
   "metadata": {},
   "source": [
    "Q2. What happens when an exception is not handled? Explain with an example.\n",
    "<br>\n",
    "An exeption error occurs if an exception is not handled."
   ]
  },
  {
   "cell_type": "code",
   "execution_count": 1,
   "id": "dd3c8edb-6b47-4f5a-89cf-29c9198f487b",
   "metadata": {},
   "outputs": [
    {
     "name": "stdout",
     "output_type": "stream",
     "text": [
      "10.0\n",
      "2.0\n",
      "2.0\n"
     ]
    },
    {
     "ename": "ZeroDivisionError",
     "evalue": "division by zero",
     "output_type": "error",
     "traceback": [
      "\u001b[0;31m---------------------------------------------------------------------------\u001b[0m",
      "\u001b[0;31mZeroDivisionError\u001b[0m                         Traceback (most recent call last)",
      "Cell \u001b[0;32mIn[1], line 3\u001b[0m\n\u001b[1;32m      1\u001b[0m lst \u001b[38;5;241m=\u001b[39m [\u001b[38;5;241m1\u001b[39m,\u001b[38;5;241m5\u001b[39m,\u001b[38;5;241m5\u001b[39m,\u001b[38;5;241m0\u001b[39m,\u001b[38;5;241m10\u001b[39m]\n\u001b[1;32m      2\u001b[0m \u001b[38;5;28;01mfor\u001b[39;00m i \u001b[38;5;129;01min\u001b[39;00m lst:\n\u001b[0;32m----> 3\u001b[0m     \u001b[38;5;28mprint\u001b[39m(\u001b[38;5;241;43m10\u001b[39;49m\u001b[38;5;241;43m/\u001b[39;49m\u001b[43mi\u001b[49m)\n",
      "\u001b[0;31mZeroDivisionError\u001b[0m: division by zero"
     ]
    }
   ],
   "source": [
    "lst = [1,5,5,0,10]\n",
    "for i in lst:\n",
    "    print(10/i) #Unhandled exception"
   ]
  },
  {
   "cell_type": "markdown",
   "id": "c092a169-f463-4f9e-8eb2-d686c0b79cd3",
   "metadata": {},
   "source": [
    "Q3. Which Python statements are used to catch and handle exceptions? Explain with an example.\n",
    "<br>\n",
    "Try and except blocks are used"
   ]
  },
  {
   "cell_type": "code",
   "execution_count": 5,
   "id": "859c8871-8139-490a-9789-fcea3aeaf70e",
   "metadata": {},
   "outputs": [
    {
     "name": "stdout",
     "output_type": "stream",
     "text": [
      "10.0\n",
      "2.0\n",
      "2.0\n",
      "Code is not proper:  division by zero\n",
      "1.0\n"
     ]
    }
   ],
   "source": [
    "lst = [1,5,5,0,10]\n",
    "for i in lst:\n",
    "    try:\n",
    "        print(10/i)\n",
    "    except Exception as e:\n",
    "        print(\"Code is not proper: \",e)\n",
    "        "
   ]
  },
  {
   "cell_type": "markdown",
   "id": "a3f88953-0aed-4b6f-b1b5-9c27e923ad9c",
   "metadata": {},
   "source": [
    "Q4. Explain with an example:\n",
    "try and else,\n",
    "finally,\n",
    "raise\n"
   ]
  },
  {
   "cell_type": "code",
   "execution_count": 11,
   "id": "007b69eb-1b2c-4eee-be4d-baf98f7b0c23",
   "metadata": {},
   "outputs": [
    {
     "name": "stdin",
     "output_type": "stream",
     "text": [
      "Enter your mobile number:  1234567899\n"
     ]
    },
    {
     "name": "stdout",
     "output_type": "stream",
     "text": [
      "Your mobile num is : 1234567899\n",
      "End of the program...\n"
     ]
    }
   ],
   "source": [
    "#try is used to catch an exception\n",
    "#else is used to execute a block of code if the exception is not raised\n",
    "#finally is used to execute a block of code irrespective of the fact that the exception is raised or not\n",
    "#raise is used for raising custom exceptions\n",
    "\n",
    "class InvalidNumber(Exception):\n",
    "    def __init__(self,mobile_num):\n",
    "        self.mobile_num = mobile_num\n",
    "\n",
    "def validate_number(num):\n",
    "    if len(num) != 10:\n",
    "        raise InvalidNumber(\"This number is not a 10 digit one!\")\n",
    "\n",
    "try:\n",
    "    num = input(\"Enter your mobile number: \")\n",
    "    validate_number(num)\n",
    "except InvalidNumber as e:\n",
    "    print(\"Enter a valid number \",e)\n",
    "else:\n",
    "    print(\"Your mobile num is : {}\".format(num))\n",
    "finally:\n",
    "    print(\"End of the program...\")    "
   ]
  },
  {
   "cell_type": "markdown",
   "id": "0dead052-69ad-4ec9-8e22-10d30d836be0",
   "metadata": {},
   "source": [
    "Q5. What are Custom Exceptions in python? Why do we need Custom Exceptions? Explain with an example.\n",
    "<br>\n",
    "Custom exceptions are used for creating user defined exception\n",
    "\n",
    "class InvalidNumber(Exception):\n",
    "    def __init__(self,mobile_num):\n",
    "        self.mobile_num = mobile_num\n",
    "\n",
    "def validate_number(num):\n",
    "    if len(num) != 10:\n",
    "        raise InvalidNumber(\"This number is not a 10 digit one!\")"
   ]
  },
  {
   "cell_type": "markdown",
   "id": "49c4f1b9-dfaa-4380-b837-410fd92329a7",
   "metadata": {},
   "source": [
    "Q6. Create custom exception class. Use this class to handle an exception."
   ]
  }
 ],
 "metadata": {
  "kernelspec": {
   "display_name": "Python 3 (ipykernel)",
   "language": "python",
   "name": "python3"
  },
  "language_info": {
   "codemirror_mode": {
    "name": "ipython",
    "version": 3
   },
   "file_extension": ".py",
   "mimetype": "text/x-python",
   "name": "python",
   "nbconvert_exporter": "python",
   "pygments_lexer": "ipython3",
   "version": "3.10.8"
  }
 },
 "nbformat": 4,
 "nbformat_minor": 5
}
