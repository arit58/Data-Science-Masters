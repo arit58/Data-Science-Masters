{
 "cells": [
  {
   "cell_type": "markdown",
   "id": "e47567ec-ea26-440e-acbc-6aa2bc01917d",
   "metadata": {},
   "source": [
    "1. Who developed python programming language?\n",
    "<br>\n",
    " Guido van Rossum\n",
    "<br>\n",
    "2. Which type of programming does python support?\n",
    "<br>\n",
    " Python supports object-oriented, structured, and functional programming.\n",
    "<br>\n",
    "3. Is python case sensitive when dealing with identifiers?\n",
    "<br>\n",
    "  yes\n",
    "4. what is the extension of python file?\n",
    "<br>\n",
    " .py\n",
    "5. Is python code compiled or interpreted?\n",
    "<br>\n",
    "interpreted\n",
    "6. Name a few block of codes used to define in python language.\n",
    "<br>\n",
    " if,elif, else\n",
    "7. state a character used to give single line comments.\n",
    "<br>\n",
    " '#'\n",
    "8. Mnetion functions which are used to find the current version of Python.\n",
    "<br> sys.version, python_vesions()\n",
    "9. Python supports the creation of anonymous functions at runtime, using a construct called lambda.\n",
    "\n",
    "10. What does pip stand for in python\n",
    "<br>\n",
    "preferred installer program\n",
    "11. Mention a few built in functions in python.\n",
    "<br> print(),len(),type(),str(),sum(),sorted()\n",
    "12. What is the maximum possible length of an identifier in python?\n",
    "<br>\n",
    "79\n",
    "13. What are the benefits of using python?\n",
    "<br>\n",
    "Large developer community,Extensive libraries, concise syntax, portability across multiple OS.\n",
    "14. How is memory managed in python?\n",
    "<br>\n",
    "Memory management in Python involves a private heap containing all Python objects and data structures. The management of this private heap is ensured internally by the Python memory manager. The Python memory manager has different components which deal with various dynamic storage management aspects, like sharing, segmentation, preallocation or caching.\n",
    "\n",
    "At the lowest level, a raw memory allocator ensures that there is enough room in the private heap for storing all Python-related data by interacting with the memory manager of the operating system. On top of the raw memory allocator, several object-specific allocators operate on the same heap and implement distinct memory management policies adapted to the peculiarities of every object type. For example, integer objects are managed differently within the heap than strings, tuples or dictionaries because integers imply different storage requirements and speed/space tradeoffs. The Python memory manager thus delegates some of the work to the object-specific allocators, but ensures that the latter operate within the bounds of the private heap.\n",
    "\n",
    "It is important to understand that the management of the Python heap is performed by the interpreter itself and that the user has no control over it, even if they regularly manipulate object pointers to memory blocks inside that heap. The allocation of heap space for Python objects and other internal buffers is performed on demand by the Python memory manager through the Python/C API functions listed in this document.\n",
    "<br>\n",
    "15. How to install python and set path variable?\n",
    "<br>\n",
    "Install python from the python.org website for the specific OS and version. \n",
    "Path variables can be set by going to the advanced section of system properties, then environment variables. By clicking on environment variables, the path variables window will pop up.\n",
    "16. Is indentation required in python?\n",
    "<br>\n",
    "Yes, indentation is required to indicate a single block of code."
   ]
  }
 ],
 "metadata": {
  "kernelspec": {
   "display_name": "Python 3 (ipykernel)",
   "language": "python",
   "name": "python3"
  },
  "language_info": {
   "codemirror_mode": {
    "name": "ipython",
    "version": 3
   },
   "file_extension": ".py",
   "mimetype": "text/x-python",
   "name": "python",
   "nbconvert_exporter": "python",
   "pygments_lexer": "ipython3",
   "version": "3.10.8"
  }
 },
 "nbformat": 4,
 "nbformat_minor": 5
}
